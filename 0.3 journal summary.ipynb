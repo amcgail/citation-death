{
 "cells": [
  {
   "cell_type": "code",
   "execution_count": 1,
   "metadata": {
    "papermill": {
     "duration": 1.022839,
     "end_time": "2020-05-24T04:20:05.604490",
     "exception": false,
     "start_time": "2020-05-24T04:20:04.581651",
     "status": "completed"
    },
    "tags": []
   },
   "outputs": [],
   "source": [
    "import sys; sys.path.append(_dh[0].split(\"knowknow\")[0])\n",
    "from knowknow import *\n",
    "#from knowknow import save_table_html\n",
    "\n",
    "database_names = ['sociology-wos-all','sociology-wos']"
   ]
  },
  {
   "cell_type": "code",
   "execution_count": 2,
   "metadata": {},
   "outputs": [],
   "source": [
    "#print(\", \".join(x.lower() for x in [\"AFRICAN SOCIOLOGICAL REVIEW\", \"AFRO-AMERICAN STUDIES\", \"AGER-REVISTA DE ESTUDIOS SOBRE DESPOBLACION Y DESARROLLO RURAL\", \"AGRICULTURE AND HUMAN VALUES\", \"AMERICAN JOURNAL OF CULTURAL SOCIOLOGY\", \"AMERICAN SOCIOLOGIST\", \"AMERICAN WEST\", \"ANDULI\", \"ANNALS OF PHENOMENOLOGICAL SOCIOLOGY\", \"ANNUAL REVIEW OF SOCIOLOGY\", \"APPLIED SOCIAL STUDIES\", \"ARCHIV FUR SOZIALWISSENSCHAFT UND SOZIALPOLITIK\", \"AUSTRALIAN AND NEW ZEALAND JOURNAL OF SOCIOLOGY\", \"AUSTRALIAN OUTLOOK\", \"BERLINER JOURNAL FUR SOZIOLOGIE\", \"BIODEMOGRAPHY AND SOCIAL BIOLOGY\", \"BMS-BULLETIN OF SOCIOLOGICAL METHODOLOGY-BULLETIN DE METHODOLOGIE SOCIOLOGIQUE\", \"BODY & SOCIETY\", \"CAHIERS INTERNATIONAUX DE SOCIOLOGIE\", \"CAMBIO-RIVISTA SULLE TRASFORMAZIONI SOCIALI\", \"CANADIAN GRADUATE JOURNAL OF SOCIOLOGY AND CRIMINOLOGY\", \"CANADIAN REVIEW OF SOCIOLOGY AND ANTHROPOLOGY\", \"CANADIAN REVIEW OF SOCIOLOGY AND ANTHROPOLOGY-REVUE CANADIENNE DE SOCIOLOGIE ET D ANTHROPOLOGIE\", \"CANADIAN REVIEW OF SOCIOLOGY-REVUE CANADIENNE DE SOCIOLOGIE\", \"CENTER FOR SETTLEMENT STUDIES. OCCASIONAL PAPERS. UNIVERSITY OF MANITOBA\", \"CENTER FOR SETTLEMENT STUDIES. RESEARCH REPORTS. UNIVERSITY OF MANITOBA\", \"CENTER MAGAZINE\", \"CHINESE SOCIOLOGICAL REVIEW\", \"CITY & COMMUNITY\", \"COMMUNITY WORK & FAMILY\", \"COMPARATIVE GROUP STUDIES\", \"COMPARATIVE SOCIOLOGY\", \"CONTEMPORANEA-REVISTA DE SOCIOLOGIA DA UFSCAR\", \"CONTEMPORARY SOCIOLOGY-A JOURNAL OF REVIEWS\", \"CONVERGENCIA-REVISTA DE CIENCIAS SOCIALES\", \"CORNELL HOSPITALITY QUARTERLY\", \"CORNELL HOTEL AND RESTAURANT ADMINISTRATION QUARTERLY\", \"CORNELL JOURNAL OF SOCIAL RELATIONS\", \"CORVINUS JOURNAL OF SOCIOLOGY AND SOCIAL POLICY\", \"COSMOPOLITAN CIVIL SOCIETIES-AN INTERDISCIPLINARY JOURNAL\", \"CRIME MEDIA CULTURE\", \"CRITICAL SOCIOLOGY\", \"CULTURAL SOCIOLOGY\", \"CURRENT PERSPECTIVES IN SOCIAL THEORY\", \"CURRENT PERSPECTIVES IN SOCIAL THEORY, SUPPL 1, 1994: RECENT DEVELOPMENTS IN THE THEORY OF SOCIAL STRUCTURE\", \"CURRENT PERSPECTIVES IN SOCIAL THEORY, VOL 15, 1995\", \"CURRENT PERSPECTIVES IN SOCIAL THEORY, VOL 16, 1996\", \"CURRENT PESPECTIVES IN SOCIAL THEORY, VOL 17, 1997\", \"CURRENT SOCIOLOGY\", \"CURRENT SOCIOLOGY-SOCIOLOGIE CONTEMPORAINE\", \"Canadian Review of Sociology-Revue Canadienne de Sociologie\", \"Crime Media Culture\", \"DEVIANCE ET SOCIETE\", \"DISTINKTION-JOURNAL OF SOCIAL THEORY\", \"DRUSTVENA ISTRAZIVANJA\", \"DU BOIS REVIEW-SOCIAL SCIENCE RESEARCH ON RACE\", \"EASTERN EUROPEAN COUNTRYSIDE\", \"ECONOMIC AND SOCIAL REVIEW\", \"ETHNOGRAPHY\", \"ETHOLOGY AND SOCIOBIOLOGY\", \"ETUDES RURALES\", \"EUROPEAN JOURNAL OF SOCIAL THEORY\", \"EUROPEAN SOCIETIES\", \"FACING THE CHALLENGE OF RISK AND VULNERABILITY IN AN INFORMATION SOCIETY\", \"FILOSOFIJA-SOCIOLOGIJA\", \"FOOD CULTURE & SOCIETY\", \"Filosofija-Sociologija\", \"GLOBAL NETWORKS-A JOURNAL OF TRANSNATIONAL AFFAIRS\", \"HEALTH SOCIOLOGY REVIEW\", \"HISTORICKA SOCIOLOGIE\", \"HUMAN CONTEXT\", \"HUMAN ECOLOGY REVIEW\", \"HUMAN NATURE\", \"Health Sociology Review\", \"INDIAN SOCIOLOGICAL BULLETIN\", \"INFORMATION COMMUNICATION & SOCIETY\", \"INNOVATION-THE EUROPEAN JOURNAL OF SOCIAL SCIENCE RESEARCH\", \"INTELLECT\", \"INTERNATIONAL JOURNAL OF COMPARATIVE SOCIOLOGY\", \"INTERNATIONAL JOURNAL OF CONTEMPORARY SOCIOLOGY\", \"INTERNATIONAL JOURNAL OF JAPANESE SOCIOLOGY\", \"INTERNATIONAL JOURNAL OF SOCIOLOGY\", \"INTERNATIONAL JOURNAL OF SOCIOLOGY AND SOCIAL POLICY\", \"INTERNATIONAL JOURNAL OF SOCIOLOGY OF EDUCATION\", \"INTERNATIONAL JOURNAL OF SOCIOLOGY OF THE FAMILY\", \"INTERNATIONAL JOURNAL OF THE SOCIOLOGY OF LAW\", \"INTERNATIONAL POLITICAL SOCIOLOGY\", \"INTERNATIONAL REVIEW FOR THE SOCIOLOGY OF SPORT\", \"INTERNATIONAL REVIEW OF MODERN SOCIOLOGY\", \"INTERNATIONAL REVIEW OF SOCIOLOGY-REVUE INTERNATIONALE DE SOCIOLOGIE\", \"INTERNATIONAL STUDIES IN SOCIOLOGY OF EDUCATION\", \"INTERNTATIONAL REVIEW OF SOCIOLOGY\", \"IPC MONOGRAPHS-INSTITUTE OF PHILIPPINE CULTURE\", \"IPC PAPERS-INSTITUTE OF PHILIPPINE CULTURE\", \"ISTANBUL JOURNAL OF SOCIOLOGICAL STUDIES-SOSYOLOJI KONFERANSLARI\", \"ISTANBUL UNIVERSITESI SOSYOLOJI DERGISI-ISTANBUL UNIVERSITY JOURNAL OF SOCIOLOGY\", \"Innovation-The European Journal of Social Science Research\", \"International Political Sociology\", \"JEWISH JOURNAL OF SOCIOLOGY\", \"JOURNAL OF APPLIED SOCIOLOGY\", \"JOURNAL OF CLASSICAL SOCIOLOGY\", \"JOURNAL OF CONSUMER CULTURE\", \"JOURNAL OF CULTURAL ECONOMY\", \"JOURNAL OF ECONOMIC SOCIOLOGY-EKONOMICHESKAYA SOTSIOLOGIYA\", \"JOURNAL OF ECONOMY CULTURE AND SOCIETY\", \"JOURNAL OF HEALTH AND HUMAN BEHAVIOR\", \"JOURNAL OF HUMAN RELATIONS\", \"JOURNAL OF IMMIGRANT & REFUGEE STUDIES\", \"JOURNAL OF INTERCULTURAL STUDIES\", \"JOURNAL OF MARRIAGE AND THE FAMILY\", \"JOURNAL OF POLITICAL & MILITARY SOCIOLOGY\", \"JOURNAL OF PROFESSIONS AND ORGANIZATION\", \"JOURNAL OF SOCIAL FORCES\", \"JOURNAL OF SOCIOLOGY\", \"JOURNAL OF SOCIOLOGY AND SOCIAL WELFARE\", \"JOURNAL OF SPORT & SOCIAL ISSUES\", \"JOURNAL OF VOLUNTARY ACTION RESEARCH\", \"JOURNAL OF WORLD-SYSTEMS RESEARCH\", \"KOLNER ZEITSCHRIFT FUR SOZIOLOGIE UND SOZIALPSYCHOLOGIE\", \"LATINO STUDIES\", \"MASS EMERGENCIES\", \"MCS-MASCULINITIES AND SOCIAL CHANGE\", \"MEN AND MASCULINITIES\", \"METHAODOS-REVISTA DE CIENCIAS SOCIALES\", \"MID-AMERICAN REVIEW OF SOCIOLOGY\", \"MOBILIZATION\", \"MULTICULTURAL PERSPECTIVES\", \"MUNDO AGRARIO\", \"NATIONAL COUNCIL FOR THE SOCIAL STUDIES-BULLETIN\", \"NATIONAL COUNCIL FOR THE SOCIAL STUDIES-YEARBOOK\", \"NATIONS AND NATIONALISM\", \"NETHERLANDS JOURNAL OF SOCIAL SCIENCES\", \"OSTERREICHISCHE ZEITSCHRIFT FUER SOZIOLOGIE\", \"PACIFIC SOCIOLOGICAL REVIEW\", \"PAPERS-REVISTA DE SOCIOLOGIA\", \"PHILIPPINE SOCIOLOGICAL REVIEW\", \"PHYLON\", \"PLAY & CULTURE\", \"POLISH SOCIOLOGICAL BULLETIN\", \"POLISH SOCIOLOGICAL REVIEW\", \"PRAXIS SOCIOLOGICA\", \"QUADERNI DI SOCIOLOGIA\", \"QUALITATIVE RESEARCH\", \"QUALITATIVE SOCIOLOGY\", \"QUARTERLY JOURNAL OF SOCIAL AFFAIRS\", \"RACE AND SOCIAL PROBLEMS\", \"RESEARCH IN SOCIAL STRATIFICATION AND MOBILITY\", \"RESPONSIVE COMMUNITY\", \"REVISTA COLOMBIANA DE SOCIOLOGIA\", \"REVISTA ESPANOLA DE INVESTIGACIONES SOCIOLOGICAS\", \"REVISTA ESPANOLA DE SOCIOLOGIA\", \"REVISTA INTERNACIONAL DE ORGANIZACIONES\", \"REVISTA INTERNACIONAL DE SOCIOLOGIA\", \"REVUE DE L INSTITUT DE SOCIOLOGIE\", \"REVUE FRANCAISE DE SOCIOLOGIE\", \"RUDN JOURNAL OF SOCIOLOGY-VESTNIK ROSSIISKOGO UNIVERSITETA DRUZHBY NARODOV SERIYA SOTSIOLOGIYA\", \"RURAL SOCIETY\", \"Research in Social Stratification and Mobility\", \"SAGE PROFESSIONAL PAPER IN CONTEMPORARY POLITICAL SOCIOLOGY SERIES\", \"SCANDINAVIAN JOURNAL OF HOSPITALITY AND TOURISM\", \"SCOTTISH JOURNAL OF SOCIOLOGY\", \"SECULARISM & NONRELIGION\", \"SEXUALITIES\", \"SOCIAL ALTERNATIVES\", \"SOCIAL AND ECONOMIC ADMINISTRATION\", \"SOCIAL BEHAVIOUR\", \"SOCIAL BIOLOGY\", \"SOCIAL CURRENTS\", \"SOCIAL EDUCATION\", \"SOCIAL JUSTICE RESEARCH\", \"SOCIAL MOVEMENT STUDIES\", \"SOCIAL SCIENCE\", \"SOCIAL STUDIES\", \"SOCIAL STUDIES-IRISH JOURNAL OF SOCIOLOGY\", \"SOCIETAMUTAMENTOPOLITICA-RIVISTA ITALIANA DI SOCIOLOGIA\", \"SOCIETAS-A REVIEW OF SOCIAL HISTORY\", \"SOCIETIES\", \"SOCIETY & ANIMALS\", \"SOCIETY AND MENTAL HEALTH\", \"SOCIO-ECONOMIC REVIEW\", \"SOCIOLOGIA NAUKI I TEHNOLOGIJ-SOCIOLOGY OF SCIENCE & TECHNOLOGY\", \"SOCIOLOGIA NEERLANDICA\", \"SOCIOLOGIA Y TECNOCIENCIA\", \"SOCIOLOGICA-ITALIAN JOURNAL OF SOCIOLOGY ON LINE\", \"SOCIOLOGICAL ANALYSIS\", \"SOCIOLOGICAL ANALYSIS & THEORY\", \"SOCIOLOGICAL BULLETIN\", \"SOCIOLOGICAL FOCUS\", \"SOCIOLOGICAL METHODOLOGY\", \"SOCIOLOGICAL METHODOLOGY 1993, VOL 23\", \"SOCIOLOGICAL METHODOLOGY 1994, VOL 24\", \"SOCIOLOGICAL METHODOLOGY 1995, VOL 25\", \"SOCIOLOGICAL METHODOLOGY 1996, VOL 26\", \"SOCIOLOGICAL METHODOLOGY 1997, VOL 27\", \"SOCIOLOGICAL METHODOLOGY 1999, VOL 29\", \"SOCIOLOGICAL METHODOLOGY 2000, VOL 30\", \"SOCIOLOGICAL METHODOLOGY 2001, VOL 31\", \"SOCIOLOGICAL METHODOLOGY 2002, VOL 32\", \"SOCIOLOGICAL METHODOLOGY, VOL 33\", \"SOCIOLOGICAL METHODOLOGY, VOL. 28 1998\", \"SOCIOLOGICAL PRACTICE\", \"SOCIOLOGICAL RESEARCH ONLINE\", \"SOCIOLOGICAL REVIEW MONOGRAPH\", \"SOCIOLOGICAL SCIENCE\", \"SOCIOLOGICAL SYMPOSIUM\", \"SOCIOLOGICAL THEORY AND METHODS\", \"SOCIOLOGICESKOE OBOZRENIE\", \"SOCIOLOGICKY CASOPIS\", \"SOCIOLOGICKY CASOPIS-CZECH SOCIOLOGICAL REVIEW\", \"SOCIOLOGIE DU TRAVAIL\", \"SOCIOLOGIJA\", \"SOCIOLOGIJA I PROSTOR\", \"SOCIOLOGISK FORSKNING\", \"SOCIOLOGUS\", \"SOCIOLOGY AND SOCIAL RESEARCH\", \"SOCIOLOGY COMPASS\", \"SOCIOLOGY OF RACE AND ETHNICITY\", \"SOCIOLOGY OF WORK AND OCCUPATIONS\", \"SOTSIOLOGICHESKIE ISSLEDOVANIYA\", \"SOUTH AFRICAN REVIEW OF SOCIOLOGY\", \"SOUTHWESTERN SOCIAL SCIENCE QUARTERLY\", \"SOVIET SOCIOLOGY\", \"SOZIALE WELT-ZEITSCHRIFT FUR SOZIALWISSENSCHAFTLICHE FORSCHUNG UND PRAXIS\", \"SPORT IN SOCIETY\", \"STUDIES IN SOCIAL LIFE\", \"STUDIES IN SOCIOLOGY\", \"STUDIES IN SYMBOLIC INTERACTION\", \"STUDIES IN SYMBOLIC INTERACTION - US\", \"STUDIES IN SYMBOLIC INTERACTION, VOL 22, 1999\", \"STUDIES IN SYMBOLIC INTERACTION, VOL 23\", \"STUDIES IN SYMBOLIC INTERACTION, VOL 24\", \"STUDIES IN SYMBOLIC INTERACTION, VOL 26\", \"STUDIES IN SYMBOLIC INTERACTION, VOL 28\", \"STUDIES IN SYMBOLIC INTERACTION, VOL 32\", \"SYMBOLIC INTERACTION AND NEW SOCIAL MEDIA\", \"TELOS\", \"TEMPO SOCIAL\", \"THEORIA\", \"THESIS ELEVEN\", \"TURKISH JOURNAL OF SOCIOLOGY-SOSYOLOJI DERGISI\", \"UNIVERSAL HUMAN RIGHTS\", \"URBAN LEAGUE REVIEW\", \"VIRAJES-REVISTA DE ANTROPOLOGIA Y SOCIOLOGIA\", \"YOUNG\", \"Young\", \"ZEITSCHRIFT FUR SOZIOLOGIE\"]))"
   ]
  },
  {
   "cell_type": "code",
   "execution_count": 3,
   "metadata": {},
   "outputs": [
    {
     "ename": "NameError",
     "evalue": "name 'cnti' is not defined",
     "output_type": "error",
     "traceback": [
      "\u001b[1;31m---------------------------------------------------------------------------\u001b[0m",
      "\u001b[1;31mNameError\u001b[0m                                 Traceback (most recent call last)",
      "\u001b[1;32m<ipython-input-3-3bd11288cfaa>\u001b[0m in \u001b[0;36m<module>\u001b[1;34m\u001b[0m\n\u001b[1;32m----> 1\u001b[1;33m \u001b[0mmin\u001b[0m\u001b[1;33m(\u001b[0m \u001b[0mcnti\u001b[0m\u001b[1;33m[\u001b[0m\u001b[1;34m'fj'\u001b[0m\u001b[1;33m]\u001b[0m\u001b[1;33m,\u001b[0m \u001b[0mkey\u001b[0m\u001b[1;33m=\u001b[0m\u001b[1;32mlambda\u001b[0m \u001b[0mx\u001b[0m\u001b[1;33m:\u001b[0m \u001b[1;33m(\u001b[0m\u001b[0mcntd\u001b[0m\u001b[1;33m[\u001b[0m\u001b[1;34m'fj'\u001b[0m\u001b[1;33m]\u001b[0m\u001b[1;33m[\u001b[0m\u001b[0mj\u001b[0m\u001b[1;33m]\u001b[0m \u001b[1;33m>\u001b[0m \u001b[1;36m0\u001b[0m\u001b[1;33m)\u001b[0m \u001b[1;32mand\u001b[0m \u001b[0mcnti\u001b[0m\u001b[1;33m[\u001b[0m\u001b[1;34m'fj'\u001b[0m\u001b[1;33m]\u001b[0m\u001b[1;33m[\u001b[0m\u001b[0mj\u001b[0m\u001b[1;33m]\u001b[0m \u001b[1;33m/\u001b[0m \u001b[0mcntd\u001b[0m\u001b[1;33m[\u001b[0m\u001b[1;34m'fj'\u001b[0m\u001b[1;33m]\u001b[0m\u001b[1;33m[\u001b[0m\u001b[0mj\u001b[0m\u001b[1;33m]\u001b[0m \u001b[1;33m)\u001b[0m\u001b[1;33m\u001b[0m\u001b[1;33m\u001b[0m\u001b[0m\n\u001b[0m",
      "\u001b[1;31mNameError\u001b[0m: name 'cnti' is not defined"
     ]
    }
   ],
   "source": [
    "min( cnti['fj'], key=lambda x: (cntd['fj'][j] > 0) and cnti['fj'][j] / cntd['fj'][j] )"
   ]
  },
  {
   "cell_type": "code",
   "execution_count": 12,
   "metadata": {},
   "outputs": [
    {
     "data": {
      "text/plain": [
       "(38.04373177842566, fj(fj='sociological theory'))"
      ]
     },
     "execution_count": 12,
     "metadata": {},
     "output_type": "execute_result"
    }
   ],
   "source": [
    "max( (cnti['fj'][j] / cntd['fj'][j], j) for j in cnti['fj'].keys() if cnti['fj'][j] > 0 )"
   ]
  },
  {
   "cell_type": "code",
   "execution_count": null,
   "metadata": {},
   "outputs": [],
   "source": []
  },
  {
   "cell_type": "code",
   "execution_count": 11,
   "metadata": {},
   "outputs": [
    {
     "data": {
      "text/plain": [
       "(3.449468085106383, fj(fj='society'))"
      ]
     },
     "execution_count": 11,
     "metadata": {},
     "output_type": "execute_result"
    }
   ],
   "source": [
    "min( (cnti['fj'][j] / cntd['fj'][j], j) for j in cnti['fj'].keys() if cnti['fj'][j] > 0 )"
   ]
  },
  {
   "cell_type": "code",
   "execution_count": 4,
   "metadata": {
    "papermill": {
     "duration": 5.603048,
     "end_time": "2020-05-24T04:20:11.215493",
     "exception": false,
     "start_time": "2020-05-24T04:20:05.612445",
     "status": "completed"
    },
    "tags": []
   },
   "outputs": [
    {
     "data": {
      "text/html": [
       "<h1>sociology-wos-all</h1>"
      ],
      "text/plain": [
       "<IPython.core.display.HTML object>"
      ]
     },
     "metadata": {},
     "output_type": "display_data"
    },
    {
     "ename": "NameError",
     "evalue": "name 'get_cnt' is not defined",
     "output_type": "error",
     "traceback": [
      "\u001b[1;31m---------------------------------------------------------------------------\u001b[0m",
      "\u001b[1;31mNameError\u001b[0m                                 Traceback (most recent call last)",
      "\u001b[1;32m<ipython-input-4-bdf7c722f61b>\u001b[0m in \u001b[0;36m<module>\u001b[1;34m\u001b[0m\n\u001b[0;32m      3\u001b[0m     \u001b[0mdisplay\u001b[0m\u001b[1;33m(\u001b[0m\u001b[0mHTML\u001b[0m\u001b[1;33m(\u001b[0m\u001b[1;34m\"<h1>%s</h1>\"\u001b[0m\u001b[1;33m%\u001b[0m\u001b[0mdatabase_name\u001b[0m\u001b[1;33m)\u001b[0m\u001b[1;33m)\u001b[0m\u001b[1;33m\u001b[0m\u001b[1;33m\u001b[0m\u001b[0m\n\u001b[0;32m      4\u001b[0m \u001b[1;33m\u001b[0m\u001b[0m\n\u001b[1;32m----> 5\u001b[1;33m     \u001b[0mcntd\u001b[0m \u001b[1;33m=\u001b[0m \u001b[0mget_cnt\u001b[0m\u001b[1;33m(\u001b[0m\u001b[1;34m\"%s.doc\"\u001b[0m \u001b[1;33m%\u001b[0m \u001b[0mdatabase_name\u001b[0m\u001b[1;33m,\u001b[0m \u001b[1;33m[\u001b[0m\u001b[1;34m'fj'\u001b[0m\u001b[1;33m,\u001b[0m\u001b[1;34m'fj.fy'\u001b[0m\u001b[1;33m]\u001b[0m\u001b[1;33m)\u001b[0m\u001b[1;33m\u001b[0m\u001b[1;33m\u001b[0m\u001b[0m\n\u001b[0m\u001b[0;32m      6\u001b[0m     \u001b[0mcnti\u001b[0m \u001b[1;33m=\u001b[0m \u001b[0mget_cnt\u001b[0m\u001b[1;33m(\u001b[0m\u001b[1;34m\"%s.ind\"\u001b[0m \u001b[1;33m%\u001b[0m \u001b[0mdatabase_name\u001b[0m\u001b[1;33m,\u001b[0m \u001b[1;33m[\u001b[0m\u001b[1;34m'fj'\u001b[0m\u001b[1;33m,\u001b[0m\u001b[1;34m'fj.fy'\u001b[0m\u001b[1;33m]\u001b[0m\u001b[1;33m)\u001b[0m\u001b[1;33m\u001b[0m\u001b[1;33m\u001b[0m\u001b[0m\n\u001b[0;32m      7\u001b[0m \u001b[1;33m\u001b[0m\u001b[0m\n",
      "\u001b[1;31mNameError\u001b[0m: name 'get_cnt' is not defined"
     ]
    }
   ],
   "source": [
    "for database_name in database_names:\n",
    "\n",
    "    display(HTML(\"<h1>%s</h1>\"%database_name))\n",
    "    \n",
    "    cntd = get_cnt(\"%s.doc\" % database_name, ['fj','fj.fy'])\n",
    "    cnti = get_cnt(\"%s.ind\" % database_name, ['fj','fj.fy'])\n",
    "\n",
    "    rows = []\n",
    "    header = [\n",
    "        [\"Journal Name\"] + [\"First\",\"# Documents\",\"# Citations\",'Cits/Doc']\n",
    "    ]\n",
    "\n",
    "    # how I decide whether to keep a journal\n",
    "    def filt(j):\n",
    "\n",
    "        # get the years for which there is a positive count of BIBLIOGRAPHIES\n",
    "        ys = set(y for jj,y in cntd['fj.fy'] if cntd['fj.fy'][(jj,y)] > 0 and jj == j)\n",
    "\n",
    "        # this is a weird error, probably requires me to rerun (rework for efficiency) my counting algos\n",
    "        # might even be reduced once I actually filter the journals\n",
    "        if not len(ys):\n",
    "            #raise Exception(\"no years for journal %s\" % j)\n",
    "            return False\n",
    "\n",
    "        # it must have been around for at least 10 years, with their first year being sometime before 1995\n",
    "        if not(\n",
    "            (max(ys)-min(ys) >= 10 and min(ys) <= 1995)\n",
    "        ): return False\n",
    "        \n",
    "        if not(\n",
    "            max(ys) >= 2010\n",
    "        ): return False\n",
    "        \n",
    "        # 5 years consecutively, then drop\n",
    "        ever_nonzero = False\n",
    "        zero_sofar = 0\n",
    "        for y in range(1900,2015):\n",
    "            c = cntd['fj.fy'][(j,y)]\n",
    "            if c > 0:\n",
    "                ever_nonzero = True\n",
    "                \n",
    "            if not ever_nonzero:\n",
    "                continue\n",
    "                \n",
    "            if c == 0:\n",
    "                zero_sofar += 1\n",
    "            else:\n",
    "                zero_sofar = 0\n",
    "                \n",
    "            if zero_sofar >= 5:\n",
    "                return False\n",
    "\n",
    "        # at least 100 papers published total\n",
    "        if not(\n",
    "            cntd['fj'][(j,)] >= 100\n",
    "        ): return False\n",
    "\n",
    "        return True\n",
    "\n",
    "    excluded_journals = []\n",
    "    included_journals = []\n",
    "    \n",
    "    keepmxmn = (-1, 1e8)\n",
    "\n",
    "    for (j,) in sorted(cntd['fj'].keys()):\n",
    "        if not filt(j):\n",
    "            excluded_journals.append(j)\n",
    "            continue\n",
    "        included_journals.append(j)\n",
    "\n",
    "        # get the years for which there is a positive count of BIBLIOGRAPHIES\n",
    "        ys = set(y for jj,y in cntd['fj.fy'] if cntd['fj.fy'][(jj,y)] > 0 and jj == j)\n",
    "        rg = max(ys) - min(ys)\n",
    "        \n",
    "        mx,mn = keepmxmn\n",
    "        keepmxmn = max( max(ys), mx ), min( min(ys), mn )\n",
    "\n",
    "        rows.append([\n",
    "            j.title(), \n",
    "            min(ys),\n",
    "            cntd['fj'][(j,)],\n",
    "            cnti['fj'][(j,)],\n",
    "            cnti['fj'][(j,)] / cntd['fj'][(j,)]\n",
    "        ])\n",
    "\n",
    "    rows = sorted(rows, key=lambda x: x[0])\n",
    "    \n",
    "    rows.append([\n",
    "        \"TOTAL\",\n",
    "        keepmxmn[1],\n",
    "        sum( x[2] for x in rows ),\n",
    "        sum( x[3] for x in rows ),\n",
    "        sum( x[3] for x in rows )/sum( x[2] for x in rows )\n",
    "    ])\n",
    "\n",
    "    print(\"%s journals selected\" % len(rows))\n",
    "    print(\"The following journals were excluded: \", \", \".join('\"%s\"'%x for x in sorted(excluded_journals)))\n",
    "    print(\"Included journals array: %s\" % included_journals)\n",
    "\n",
    "    save_variable( \"%s.included_journals\"%database_name, included_journals )\n",
    "\n",
    "    inc = 45\n",
    "\n",
    "    to_prettify = ['{}'] + ['{}'] + ['{0:,}']*2\n",
    "    for i,r in enumerate(rows):\n",
    "        for j,p in enumerate(to_prettify):\n",
    "            rows[i][j] = p.format(r[j])\n",
    "\n",
    "            \n",
    "    for i,rstart in enumerate(range(0,len(rows),inc)):\n",
    "        myrows = rows[rstart:rstart+inc]\n",
    "\n",
    "        if False:\n",
    "            save_table(\n",
    "                \"journal_table_%s\" % (i), \n",
    "                myrows, \n",
    "                headers=header,\n",
    "                widths=np.array([7]+[1]*8),\n",
    "                columns=2,\n",
    "                caption=\"\\n\".join([\n",
    "                    \"Journal summary, '%s' through '%s'\" % (myrows[0][0], myrows[-1][0])\n",
    "                ])\n",
    "            )\n",
    "\n",
    "        tbl = tabulate(myrows, tablefmt='html', headers=header[0])\n",
    "        save_table_html(tbl, \"Journal Summary (%s)\" % database_name)\n",
    "        display(HTML( tbl ))\n",
    "\n",
    "\n",
    "    plot_count_series(\n",
    "        included_journals, database_name, \n",
    "        myname=\"Number of documents with citations by journal (%s, docs)\"%database_name, \n",
    "        print_names=lambda j:j.lower(),\n",
    "        overwrite=True, markers={}, \n",
    "        ctype='fj', yearly_prop=False,\n",
    "        count_unit=['doc','ind'], cols=3)\n",
    "    \n",
    "    #plot_count_series(\n",
    "    #    included_journals, database_name, \n",
    "    #    myname=\"Number of documents with citations by journal (%s, cits)\"%database_name, \n",
    "    #    print_names=lambda j:j.lower(),\n",
    "    #    overwrite=True, markers={}, \n",
    "    #    ctype='fj', yearly_prop=False,\n",
    "    #    count_unit='ind')"
   ]
  },
  {
   "cell_type": "code",
   "execution_count": 12,
   "metadata": {},
   "outputs": [
    {
     "data": {
      "text/plain": [
       "0"
      ]
     },
     "execution_count": 12,
     "metadata": {},
     "output_type": "execute_result"
    }
   ],
   "source": [
    "sum( int(x[1]) >= 2000 for x in rows )"
   ]
  },
  {
   "cell_type": "code",
   "execution_count": 13,
   "metadata": {},
   "outputs": [
    {
     "data": {
      "text/plain": [
       "29"
      ]
     },
     "execution_count": 13,
     "metadata": {},
     "output_type": "execute_result"
    }
   ],
   "source": [
    "sum( 2000 > int(x[1]) >= 1980 for x in rows )"
   ]
  },
  {
   "cell_type": "code",
   "execution_count": 17,
   "metadata": {},
   "outputs": [
    {
     "data": {
      "text/plain": [
       "['Work And Occupations',\n",
       " 'Society & Natural Resources',\n",
       " 'Annals Of Tourism Research',\n",
       " 'Leisure Sciences',\n",
       " 'Journal Of The History Of Sexuality']"
      ]
     },
     "execution_count": 17,
     "metadata": {},
     "output_type": "execute_result"
    }
   ],
   "source": [
    "sample( [x[0] for x in rows if 2000 > int(x[1]) >= 1980], 5 )"
   ]
  },
  {
   "cell_type": "code",
   "execution_count": 18,
   "metadata": {},
   "outputs": [
    {
     "data": {
      "text/plain": [
       "39"
      ]
     },
     "execution_count": 18,
     "metadata": {},
     "output_type": "execute_result"
    }
   ],
   "source": [
    "sum( 1980 > int(x[1]) >= 1950 for x in rows )"
   ]
  },
  {
   "cell_type": "code",
   "execution_count": 15,
   "metadata": {},
   "outputs": [
    {
     "data": {
      "text/plain": [
       "5"
      ]
     },
     "execution_count": 15,
     "metadata": {},
     "output_type": "execute_result"
    }
   ],
   "source": [
    "sum( int(x[1])< 1950 for x in rows )"
   ]
  },
  {
   "cell_type": "code",
   "execution_count": 19,
   "metadata": {},
   "outputs": [
    {
     "data": {
      "text/plain": [
       "['American Journal Of Sociology',\n",
       " 'American Sociological Review',\n",
       " 'Rural Sociology',\n",
       " 'Social Forces',\n",
       " 'TOTAL']"
      ]
     },
     "execution_count": 19,
     "metadata": {},
     "output_type": "execute_result"
    }
   ],
   "source": [
    "[x[0] for x in rows if 1950 > int(x[1])]"
   ]
  },
  {
   "cell_type": "markdown",
   "metadata": {},
   "source": [
    "# Would be great to convert"
   ]
  },
  {
   "cell_type": "code",
   "execution_count": 4,
   "metadata": {},
   "outputs": [
    {
     "ename": "RuntimeError",
     "evalue": "No active exception to reraise",
     "output_type": "error",
     "traceback": [
      "\u001b[1;31m---------------------------------------------------------------------------\u001b[0m",
      "\u001b[1;31mRuntimeError\u001b[0m                              Traceback (most recent call last)",
      "\u001b[1;32m<ipython-input-4-9c9a2cba73bf>\u001b[0m in \u001b[0;36m<module>\u001b[1;34m\u001b[0m\n\u001b[1;32m----> 1\u001b[1;33m \u001b[1;32mraise\u001b[0m\u001b[1;33m\u001b[0m\u001b[1;33m\u001b[0m\u001b[0m\n\u001b[0m",
      "\u001b[1;31mRuntimeError\u001b[0m: No active exception to reraise"
     ]
    }
   ],
   "source": [
    "raise"
   ]
  },
  {
   "cell_type": "code",
   "execution_count": 5,
   "metadata": {},
   "outputs": [
    {
     "ename": "NameError",
     "evalue": "name 'doc_cnt' is not defined",
     "output_type": "error",
     "traceback": [
      "\u001b[1;31m---------------------------------------------------------------------------\u001b[0m",
      "\u001b[1;31mNameError\u001b[0m                                 Traceback (most recent call last)",
      "\u001b[1;32m<ipython-input-5-4405b90131e9>\u001b[0m in \u001b[0;36m<module>\u001b[1;34m\u001b[0m\n\u001b[0;32m      5\u001b[0m \u001b[1;33m\u001b[0m\u001b[0m\n\u001b[0;32m      6\u001b[0m \u001b[0myears\u001b[0m \u001b[1;33m=\u001b[0m \u001b[0mlist\u001b[0m\u001b[1;33m(\u001b[0m\u001b[0mrange\u001b[0m\u001b[1;33m(\u001b[0m\u001b[1;36m1880\u001b[0m\u001b[1;33m,\u001b[0m\u001b[1;36m2020\u001b[0m\u001b[1;33m)\u001b[0m\u001b[1;33m)\u001b[0m\u001b[1;33m\u001b[0m\u001b[1;33m\u001b[0m\u001b[0m\n\u001b[1;32m----> 7\u001b[1;33m \u001b[0mtotal\u001b[0m \u001b[1;33m=\u001b[0m \u001b[0mnp\u001b[0m\u001b[1;33m.\u001b[0m\u001b[0marray\u001b[0m\u001b[1;33m(\u001b[0m\u001b[1;33m[\u001b[0m\u001b[0mdoc_cnt\u001b[0m\u001b[1;33m[\u001b[0m\u001b[1;34m'y'\u001b[0m\u001b[1;33m]\u001b[0m\u001b[1;33m[\u001b[0m\u001b[0my\u001b[0m\u001b[1;33m]\u001b[0m \u001b[1;32mfor\u001b[0m \u001b[0my\u001b[0m \u001b[1;32min\u001b[0m \u001b[0myears\u001b[0m\u001b[1;33m]\u001b[0m\u001b[1;33m)\u001b[0m\u001b[1;33m\u001b[0m\u001b[1;33m\u001b[0m\u001b[0m\n\u001b[0m\u001b[0;32m      8\u001b[0m \u001b[0mintext\u001b[0m \u001b[1;33m=\u001b[0m \u001b[0mnp\u001b[0m\u001b[1;33m.\u001b[0m\u001b[0marray\u001b[0m\u001b[1;33m(\u001b[0m\u001b[1;33m[\u001b[0m\u001b[0mcnt\u001b[0m\u001b[1;33m[\u001b[0m\u001b[1;34m'y'\u001b[0m\u001b[1;33m]\u001b[0m\u001b[1;33m[\u001b[0m\u001b[0my\u001b[0m\u001b[1;33m]\u001b[0m \u001b[1;32mfor\u001b[0m \u001b[0my\u001b[0m \u001b[1;32min\u001b[0m \u001b[0myears\u001b[0m\u001b[1;33m]\u001b[0m\u001b[1;33m)\u001b[0m\u001b[1;33m\u001b[0m\u001b[1;33m\u001b[0m\u001b[0m\n\u001b[0;32m      9\u001b[0m \u001b[1;33m\u001b[0m\u001b[0m\n",
      "\u001b[1;32m<ipython-input-5-4405b90131e9>\u001b[0m in \u001b[0;36m<listcomp>\u001b[1;34m(.0)\u001b[0m\n\u001b[0;32m      5\u001b[0m \u001b[1;33m\u001b[0m\u001b[0m\n\u001b[0;32m      6\u001b[0m \u001b[0myears\u001b[0m \u001b[1;33m=\u001b[0m \u001b[0mlist\u001b[0m\u001b[1;33m(\u001b[0m\u001b[0mrange\u001b[0m\u001b[1;33m(\u001b[0m\u001b[1;36m1880\u001b[0m\u001b[1;33m,\u001b[0m\u001b[1;36m2020\u001b[0m\u001b[1;33m)\u001b[0m\u001b[1;33m)\u001b[0m\u001b[1;33m\u001b[0m\u001b[1;33m\u001b[0m\u001b[0m\n\u001b[1;32m----> 7\u001b[1;33m \u001b[0mtotal\u001b[0m \u001b[1;33m=\u001b[0m \u001b[0mnp\u001b[0m\u001b[1;33m.\u001b[0m\u001b[0marray\u001b[0m\u001b[1;33m(\u001b[0m\u001b[1;33m[\u001b[0m\u001b[0mdoc_cnt\u001b[0m\u001b[1;33m[\u001b[0m\u001b[1;34m'y'\u001b[0m\u001b[1;33m]\u001b[0m\u001b[1;33m[\u001b[0m\u001b[0my\u001b[0m\u001b[1;33m]\u001b[0m \u001b[1;32mfor\u001b[0m \u001b[0my\u001b[0m \u001b[1;32min\u001b[0m \u001b[0myears\u001b[0m\u001b[1;33m]\u001b[0m\u001b[1;33m)\u001b[0m\u001b[1;33m\u001b[0m\u001b[1;33m\u001b[0m\u001b[0m\n\u001b[0m\u001b[0;32m      8\u001b[0m \u001b[0mintext\u001b[0m \u001b[1;33m=\u001b[0m \u001b[0mnp\u001b[0m\u001b[1;33m.\u001b[0m\u001b[0marray\u001b[0m\u001b[1;33m(\u001b[0m\u001b[1;33m[\u001b[0m\u001b[0mcnt\u001b[0m\u001b[1;33m[\u001b[0m\u001b[1;34m'y'\u001b[0m\u001b[1;33m]\u001b[0m\u001b[1;33m[\u001b[0m\u001b[0my\u001b[0m\u001b[1;33m]\u001b[0m \u001b[1;32mfor\u001b[0m \u001b[0my\u001b[0m \u001b[1;32min\u001b[0m \u001b[0myears\u001b[0m\u001b[1;33m]\u001b[0m\u001b[1;33m)\u001b[0m\u001b[1;33m\u001b[0m\u001b[1;33m\u001b[0m\u001b[0m\n\u001b[0;32m      9\u001b[0m \u001b[1;33m\u001b[0m\u001b[0m\n",
      "\u001b[1;31mNameError\u001b[0m: name 'doc_cnt' is not defined"
     ]
    },
    {
     "data": {
      "text/plain": [
       "<Figure size 864x432 with 0 Axes>"
      ]
     },
     "metadata": {},
     "output_type": "display_data"
    }
   ],
   "source": [
    "from random import random\n",
    "\n",
    "#fs(2)\n",
    "plt.figure(figsize=(12,6))\n",
    "\n",
    "years = list(range(1880,2020))\n",
    "total = np.array([doc_cnt['y'][y] for y in years])\n",
    "intext = np.array([cnt['y'][y] for y in years])\n",
    "\n",
    "start_years = sorted(np.array([\n",
    "    min( y for y in years if cnt['jy'][(j,y)] > 0 )\n",
    "    for j in cnt['j'].keys()\n",
    "    if cnt['j'][j] > 0\n",
    "]))\n",
    "\n",
    "start_years_wos = sorted(np.array([\n",
    "    min( y for y in years if wos_cnt['jy'][(j,y)] > 0 )\n",
    "    for j in wos_cnt['fj'].keys()\n",
    "    if wos_cnt['fj'][j] > 0\n",
    "    and len([y for y in years if wos_cnt['jy'][(j,y)] > 0])\n",
    "]))\n",
    "    \n",
    "print(\"%s years (%s-%s)\" % (len(total), min(y for y in years if doc_cnt['y'][y]>0), max(y for y in years if doc_cnt['y'][y]>0)))\n",
    "print(\"%s documents with in-text citations\" % sum(total))\n",
    "\n",
    "#plt.fill_between(years, intext, alpha=0.4, label='Documents with in-text citations')\n",
    "plt.plot(years, total, ls=':', color='black', label='JSTOR');\n",
    "plt.plot(years, [wos_cnt['fy'][y] for y in years], color='black', ls='-', label='Web of Science');\n",
    "#plt.scatter(start_years, [200 + 20*i for i in range(len(start_years))], color='red', s=5, label='Journal founding');\n",
    "#plt.vlines(start_years, 4000, 7000, color='black', alpha='0.4', label='Journal founding');\n",
    "plt.scatter(start_years_wos, [5500 + random()*500 for i in range(len(start_years_wos))], color='black', s=25, alpha=0.2, label='Journal founding (WOS)');\n",
    "plt.scatter(start_years, [4000 + random()*500 for i in range(len(start_years))], color='black', alpha=0.2, s=50, label='Journal founding (JSTOR)');\n",
    "plt.grid(False, axis='y')\n",
    "plt.xticks( range(1880,2040,20) );\n",
    "plt.ylim((0,6000))\n",
    "plt.legend();\n",
    "\n",
    "save_figure(\"summary_docs_founding.png\")"
   ]
  },
  {
   "cell_type": "markdown",
   "metadata": {
    "papermill": {
     "duration": 0.032943,
     "end_time": "2020-05-24T04:20:11.276362",
     "exception": false,
     "start_time": "2020-05-24T04:20:11.243419",
     "status": "completed"
    },
    "tags": []
   },
   "source": [
    "# What about a random sample of articles from each decade?"
   ]
  },
  {
   "cell_type": "code",
   "execution_count": null,
   "metadata": {},
   "outputs": [],
   "source": [
    "for x in sorted( THEORY_DB.find({\"journal\":\"American Journal of Sociology\", \"year\":{\"$lt\":1900}}), key=lambda x:x['year']):\n",
    "    print(x['year'], x['volume'], x['title'])"
   ]
  },
  {
   "cell_type": "markdown",
   "metadata": {},
   "source": [
    "# This one too"
   ]
  },
  {
   "cell_type": "code",
   "execution_count": null,
   "metadata": {},
   "outputs": [],
   "source": [
    "raise"
   ]
  },
  {
   "cell_type": "code",
   "execution_count": null,
   "metadata": {},
   "outputs": [],
   "source": [
    "nj = len(list(cnt['j'].keys()))\n",
    "\n",
    "fig = plt.figure(figsize=(15,30))\n",
    "fig.subplots_adjust(hspace=0.4, wspace=0.4)\n",
    "\n",
    "years = np.arange(1900, 2020)\n",
    "\n",
    "cjy = {}\n",
    "for j in cnt['j'].keys():\n",
    "    cjy[j] = np.array( list(map(lambda y: cnt['jy'][(j,y)], years)) )\n",
    "\n",
    "for i,j in enumerate(sorted(cnt['j'])):\n",
    "\n",
    "    ax = fig.add_subplot(nj//3 + 1,3,i+1)\n",
    "    ax.set_title(j)\n",
    "\n",
    "    ax.fill_between(years, cjy[j], alpha=0.4)\n",
    "    ax.plot( \n",
    "        years,\n",
    "        [ doc_cnt['jy'][(j,y)] for y in years ],\n",
    "        color='black'\n",
    "    );"
   ]
  }
 ],
 "metadata": {
  "kernelspec": {
   "display_name": "Python 3",
   "language": "python",
   "name": "python3"
  },
  "language_info": {
   "codemirror_mode": {
    "name": "ipython",
    "version": 3
   },
   "file_extension": ".py",
   "mimetype": "text/x-python",
   "name": "python",
   "nbconvert_exporter": "python",
   "pygments_lexer": "ipython3",
   "version": "3.7.5"
  },
  "papermill": {
   "duration": 9.064049,
   "end_time": "2020-05-24T04:20:12.404604",
   "environment_variables": {},
   "exception": null,
   "input_path": "G:\\My Drive\\projects\\qualitative analysis of literature\\post 5-12-2020\\git repository _ citation-deaths\\knowknow\\analyses\\summary of journals.ipynb",
   "output_path": "G:\\My Drive\\projects\\qualitative analysis of literature\\post 5-12-2020\\git repository _ citation-deaths\\knowknow\\analyses\\summary of journals.ipynb",
   "parameters": {},
   "start_time": "2020-05-24T04:20:03.340555",
   "version": "2.1.1"
  }
 },
 "nbformat": 4,
 "nbformat_minor": 4
}
