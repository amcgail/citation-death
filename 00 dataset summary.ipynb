{
 "cells": [
  {
   "cell_type": "code",
   "execution_count": 1,
   "metadata": {},
   "outputs": [],
   "source": [
    "from knowknow import *"
   ]
  },
  {
   "cell_type": "code",
   "execution_count": 2,
   "metadata": {},
   "outputs": [
    {
     "name": "stdout",
     "output_type": "stream",
     "text": [
      "loading variable sociology-wos-74b/groups from disk\n",
      "loading variable sociology-wos-74b/group_reps from disk\n",
      "loading variable sociology-wos-74b/_attributes from disk\n",
      "loading variable sociology-wos-all/groups from disk\n",
      "loading variable sociology-wos-all/_attributes from disk\n"
     ]
    }
   ],
   "source": [
    "db = Dataset('sociology-wos-74b')\n",
    "dball = Dataset('sociology-wos-all')"
   ]
  },
  {
   "cell_type": "code",
   "execution_count": 3,
   "metadata": {},
   "outputs": [
    {
     "name": "stdout",
     "output_type": "stream",
     "text": [
      "loading variable sociology-wos-74a/groups from disk\n",
      "loading variable sociology-wos-74a/group_reps from disk\n",
      "loading variable sociology-wos-74a/_attributes from disk\n"
     ]
    }
   ],
   "source": [
    "db2 = Dataset('sociology-wos-74a')"
   ]
  },
  {
   "cell_type": "code",
   "execution_count": 4,
   "metadata": {},
   "outputs": [
    {
     "name": "stdout",
     "output_type": "stream",
     "text": [
      "loading variable sociology-wos-74a/ind ___ c from disk\n"
     ]
    },
    {
     "data": {
      "text/plain": [
       "0"
      ]
     },
     "execution_count": 4,
     "metadata": {},
     "output_type": "execute_result"
    }
   ],
   "source": [
    "db2(c='Portes, A.|1998|annu rev sociol,v22,p1').cits"
   ]
  },
  {
   "cell_type": "code",
   "execution_count": 5,
   "metadata": {},
   "outputs": [],
   "source": [
    "db.set_attribute('RELIABLE_DATA_STARTS_HERE', 1900)\n",
    "db2.set_attribute('RELIABLE_DATA_STARTS_HERE', 1900)\n",
    "dball.set_attribute('RELIABLE_DATA_STARTS_HERE', 1900)"
   ]
  },
  {
   "cell_type": "markdown",
   "metadata": {},
   "source": [
    "# more uncategorized analysis"
   ]
  },
  {
   "cell_type": "code",
   "execution_count": 6,
   "metadata": {},
   "outputs": [
    {
     "name": "stdout",
     "output_type": "stream",
     "text": [
      "loading variable sociology-wos-74a/doc ___ c from disk\n"
     ]
    }
   ],
   "source": [
    "cc_full = db2.by('c').docs"
   ]
  },
  {
   "cell_type": "code",
   "execution_count": 7,
   "metadata": {},
   "outputs": [
    {
     "name": "stdout",
     "output_type": "stream",
     "text": [
      "loading variable sociology-wos-74b/ind ___ c from disk\n"
     ]
    }
   ],
   "source": [
    "cc = db.by('c').cits"
   ]
  },
  {
   "cell_type": "code",
   "execution_count": 8,
   "metadata": {},
   "outputs": [
    {
     "name": "stdout",
     "output_type": "stream",
     "text": [
      "loading variable sociology-wos-74a/doc ___ fy from disk\n",
      "loading variable sociology-wos-74a/ind ___ fj from disk\n"
     ]
    }
   ],
   "source": [
    "num1 = sum([1 for x,c in cc_full.items() if c == 1])\n",
    "num2 = sum([1 for x,c in cc_full.items() if c in [2,3,4]])\n",
    "num3 = sum([1 for x,c in cc_full.items() if c >= 5])\n",
    "\n",
    "total = sum([1 for x,c in cc_full.items() if c >= 1])\n",
    "total2 = sum(db2.by('fy').docs.values())\n",
    "total3 = len(db2.items('fj'))\n",
    "\n",
    "c1 = num1/total\n",
    "c2 = num2/total\n",
    "c3 = num3/total"
   ]
  },
  {
   "cell_type": "code",
   "execution_count": 9,
   "metadata": {},
   "outputs": [],
   "source": [
    "c4 = sum([c for x,c in cc_full.items() if c >= 5]) / sum(cc_full.values())"
   ]
  },
  {
   "cell_type": "code",
   "execution_count": 10,
   "metadata": {},
   "outputs": [],
   "source": [
    "num5 = sum([1 for x,c in cc.items() if c > 1])"
   ]
  },
  {
   "cell_type": "code",
   "execution_count": 11,
   "metadata": {},
   "outputs": [
    {
     "data": {
      "text/plain": [
       "3747909"
      ]
     },
     "execution_count": 11,
     "metadata": {},
     "output_type": "execute_result"
    }
   ],
   "source": [
    "sum( db2.by('fj').cits.values() )"
   ]
  },
  {
   "cell_type": "code",
   "execution_count": 12,
   "metadata": {},
   "outputs": [
    {
     "data": {
      "text/plain": [
       "5"
      ]
     },
     "execution_count": 12,
     "metadata": {},
     "output_type": "execute_result"
    }
   ],
   "source": [
    "min(cc.values())"
   ]
  },
  {
   "cell_type": "code",
   "execution_count": 13,
   "metadata": {},
   "outputs": [
    {
     "name": "stdout",
     "output_type": "stream",
     "text": [
      "loading variable sociology-wos-74b/ind ___ fj from disk\n"
     ]
    },
    {
     "data": {
      "text/plain": [
       "1502423"
      ]
     },
     "execution_count": 13,
     "metadata": {},
     "output_type": "execute_result"
    }
   ],
   "source": [
    "sum( db.by('fj').cits.values() )"
   ]
  },
  {
   "cell_type": "code",
   "execution_count": 14,
   "metadata": {},
   "outputs": [
    {
     "data": {
      "text/markdown": [
       "\n",
       "Within the 73 sociology journals identified above, \n",
       "    Web of Science has bibliographic data on 93,648 articles published between 1900 and 2020, \n",
       "    3,747,909 citations total. \n",
       "Of the 1,699,615 distinct cited works cited in these articles, \n",
       "    75% received only a single citation, \n",
       "    18% received between 2 and 4 citations, \n",
       "    and 7% received at least 5 citations. \n",
       "However, 45% of citations are to the 7% of cited works which receive at least 5 citations. \n",
       "Typographic errors, alternate spellings, smudges of ink, and quirks of the algorithm \n",
       "    will register as a totally separate cited work, \n",
       "    so this number of once-cited works is an overestimate. \n",
       "But if it is even remotely accurate, \n",
       "    it shows that the relatively uncited get about as much attention as the relatively cited. \n",
       "In the rest of this paper I focus only on cited works that received at least 5 citations total, \n",
       "    disregarding the totally ignored. \n"
      ],
      "text/plain": [
       "<IPython.core.display.Markdown object>"
      ]
     },
     "metadata": {},
     "output_type": "display_data"
    }
   ],
   "source": [
    "display(Markdown(\"\"\"\n",
    "Within the 73 sociology journals identified above, \n",
    "    Web of Science has bibliographic data on 93,648 articles published between 1900 and 2020, \n",
    "    3,747,909 citations total. \n",
    "Of the {total:,} distinct cited works cited in these articles, \n",
    "    {c1:.0%} received only a single citation, \n",
    "    {c2:.0%} received between 2 and 4 citations, \n",
    "    and {c3:.0%} received at least 5 citations. \n",
    "However, {c4:.0%} of citations are to the 7% of cited works which receive at least 5 citations. \n",
    "Typographic errors, alternate spellings, smudges of ink, and quirks of the algorithm \n",
    "    will register as a totally separate cited work, \n",
    "    so this number of once-cited works is an overestimate. \n",
    "But if it is even remotely accurate, \n",
    "    it shows that the relatively uncited get about as much attention as the relatively cited. \n",
    "In the rest of this paper I focus only on cited works that received at least 5 citations total, \n",
    "    disregarding the totally ignored. \n",
    "\"\"\".format(**locals())))"
   ]
  },
  {
   "cell_type": "code",
   "execution_count": 15,
   "metadata": {},
   "outputs": [],
   "source": [
    "#display(Markdown(\"\"\"\n",
    "\"\"\"\n",
    "Of the {total:,} distinct cited works cited in {total2:,} Sociology articles in the chosen {total3:,} sociology journals,\n",
    "    {c1:.0%} ({num1:,}) received only a single citation,\n",
    "    {c2:.0%} ({num2:,}) received between 2 and 4 citations,\n",
    "    and {c3:.0%} ({num3:,}) received at least 5 citations.\n",
    "{c4:.0%} of the citations are to the {c3:.0%} which receive at least 5 citations.\n",
    "This is an underestimate, as typographic errors, alternate spellings, smudges of ink, and quirks of the algorithm \n",
    "    will register as a totally separate cited work.\n",
    "But if it's even remotely accurate, it shows that the relatively *uncited* get about as much attention as the relatively *cited*.\n",
    "In this section I focus on the *cited* (discarding any works with less than 5 citations total).\n",
    "This discards errors and one-offs.\n",
    "Typographical errors and nonstandard spellings are excluded unless these become relatively common in this context.\n",
    "And we consider only the references which have any substantive life to speak of.\n",
    "The following analysis is on the {num5:,} remaining cited works.\n",
    "\"\"\";\n",
    "#\"\"\".format(**locals())))"
   ]
  },
  {
   "cell_type": "code",
   "execution_count": 16,
   "metadata": {},
   "outputs": [
    {
     "name": "stdout",
     "output_type": "stream",
     "text": [
      "loading variable sociology-wos-74b/ind ___ fy from disk\n"
     ]
    },
    {
     "name": "stderr",
     "output_type": "stream",
     "text": [
      "c:\\users\\amcga\\envs\\citation-deaths\\lib\\site-packages\\ipykernel_launcher.py:3: RuntimeWarning: divide by zero encountered in log\n",
      "  This is separate from the ipykernel package so we can avoid doing imports until\n"
     ]
    },
    {
     "data": {
      "image/png": "[encoded data removed]",
      "text/plain": [
       "<Figure size 432x288 with 1 Axes>"
      ]
     },
     "metadata": {},
     "output_type": "display_data"
    }
   ],
   "source": [
    "c = db.by('fy').cits\n",
    "yrs = range(1900,2010,1)\n",
    "plt.plot(yrs, np.log([c[(y,)] for y in yrs]));"
   ]
  },
  {
   "cell_type": "code",
   "execution_count": 17,
   "metadata": {},
   "outputs": [
    {
     "name": "stdout",
     "output_type": "stream",
     "text": [
      "loading variable sociology-wos-all/ind ___ fy from disk\n"
     ]
    },
    {
     "data": {
      "image/png": "[encoded data removed]",
      "text/plain": [
       "<Figure size 432x288 with 1 Axes>"
      ]
     },
     "metadata": {},
     "output_type": "display_data"
    }
   ],
   "source": [
    "c = dball.by('fy').cits\n",
    "yrs = range(1900,2010,1)\n",
    "plt.plot(yrs, np.log([c[(y,)] for y in yrs]));"
   ]
  },
  {
   "cell_type": "markdown",
   "metadata": {},
   "source": [
    "# summary before filtering"
   ]
  },
  {
   "cell_type": "code",
   "execution_count": 18,
   "metadata": {},
   "outputs": [
    {
     "name": "stdout",
     "output_type": "stream",
     "text": [
      "loading variable sociology-wos-all/doc ___ fy from disk\n",
      "loading variable sociology-wos-all/doc ___ fj from disk\n",
      "loading variable sociology-wos-74b/doc ___ fj from disk\n",
      "loading variable sociology-wos-all/ind ___ fj from disk\n"
     ]
    }
   ],
   "source": [
    "c1 = sum( dball.by('fy').docs.values() )\n",
    "c2 = len( list(dball.by('fj').docs) )\n",
    "c3 = len( list(db.by('fj').docs) )\n",
    "\n",
    "Nclim = sum( c for (j,),c in dball.by('fj').cits.items() if j in set(db.items('fj')) )\n",
    "Ndlim = sum( c for (j,),c in dball.by('fj').docs.items() if j in set(db.items('fj')) )"
   ]
  },
  {
   "cell_type": "code",
   "execution_count": 19,
   "metadata": {},
   "outputs": [
    {
     "ename": "AttributeError",
     "evalue": "'tuple' object has no attribute 'fy'",
     "output_type": "error",
     "traceback": [
      "\u001b[1;31m---------------------------------------------------------------------------\u001b[0m",
      "\u001b[1;31mAttributeError\u001b[0m                            Traceback (most recent call last)",
      "\u001b[1;32m<ipython-input-19-31ebb8d32fbb>\u001b[0m in \u001b[0;36m<module>\u001b[1;34m\u001b[0m\n\u001b[1;32m----> 1\u001b[1;33m \u001b[0mmin_y\u001b[0m \u001b[1;33m=\u001b[0m \u001b[0mmin\u001b[0m\u001b[1;33m(\u001b[0m \u001b[0mdb\u001b[0m\u001b[1;33m.\u001b[0m\u001b[0mitems\u001b[0m\u001b[1;33m(\u001b[0m\u001b[1;34m'fy'\u001b[0m\u001b[1;33m)\u001b[0m \u001b[1;33m)\u001b[0m\u001b[1;33m\u001b[0m\u001b[1;33m\u001b[0m\u001b[0m\n\u001b[0m\u001b[0;32m      2\u001b[0m \u001b[0mmax_y\u001b[0m \u001b[1;33m=\u001b[0m \u001b[0mmax\u001b[0m\u001b[1;33m(\u001b[0m \u001b[0mdb\u001b[0m\u001b[1;33m.\u001b[0m\u001b[0mitems\u001b[0m\u001b[1;33m(\u001b[0m\u001b[1;34m'fy'\u001b[0m\u001b[1;33m)\u001b[0m \u001b[1;33m)\u001b[0m\u001b[1;33m\u001b[0m\u001b[1;33m\u001b[0m\u001b[0m\n",
      "\u001b[1;32mG:\\My Drive\\2020 ORGANISATION\\1. PROJECTS\\qualitative analysis of literature\\110 CITATION ANALYSIS\\010 analyses\\bundle 100 - knowknow reboot 10-2020\\knowknow\\datastore_cnts\\count_cache.py\u001b[0m in \u001b[0;36mitems\u001b[1;34m(self, what)\u001b[0m\n\u001b[0;32m    370\u001b[0m         myl = sorted( Determ(\n\u001b[0;32m    371\u001b[0m             \u001b[0mdataset\u001b[0m \u001b[1;33m=\u001b[0m \u001b[0mself\u001b[0m\u001b[1;33m,\u001b[0m\u001b[1;33m\u001b[0m\u001b[1;33m\u001b[0m\u001b[0m\n\u001b[1;32m--> 372\u001b[1;33m             \u001b[1;33m**\u001b[0m\u001b[0mkwargs\u001b[0m\u001b[1;33m\u001b[0m\u001b[1;33m\u001b[0m\u001b[0m\n\u001b[0m\u001b[0;32m    373\u001b[0m         ).cits[ what ] )\n\u001b[0;32m    374\u001b[0m         \u001b[0mmyl\u001b[0m \u001b[1;33m=\u001b[0m \u001b[0mlist\u001b[0m\u001b[1;33m(\u001b[0m\u001b[0mmap\u001b[0m\u001b[1;33m(\u001b[0m\u001b[0mprocess\u001b[0m\u001b[1;33m,\u001b[0m \u001b[0mmyl\u001b[0m\u001b[1;33m)\u001b[0m\u001b[1;33m)\u001b[0m\u001b[1;33m\u001b[0m\u001b[1;33m\u001b[0m\u001b[0m\n",
      "\u001b[1;32mG:\\My Drive\\2020 ORGANISATION\\1. PROJECTS\\qualitative analysis of literature\\110 CITATION ANALYSIS\\010 analyses\\bundle 100 - knowknow reboot 10-2020\\knowknow\\datastore_cnts\\count_cache.py\u001b[0m in \u001b[0;36mcits\u001b[1;34m(self)\u001b[0m\n\u001b[0;32m    205\u001b[0m     \u001b[1;33m@\u001b[0m\u001b[0mproperty\u001b[0m\u001b[1;33m\u001b[0m\u001b[1;33m\u001b[0m\u001b[0m\n\u001b[0;32m    206\u001b[0m     \u001b[1;32mdef\u001b[0m \u001b[0mcits\u001b[0m\u001b[1;33m(\u001b[0m\u001b[0mself\u001b[0m\u001b[1;33m)\u001b[0m\u001b[1;33m:\u001b[0m\u001b[1;33m\u001b[0m\u001b[1;33m\u001b[0m\u001b[0m\n\u001b[1;32m--> 207\u001b[1;33m         \u001b[1;32mreturn\u001b[0m \u001b[0mself\u001b[0m\u001b[1;33m.\u001b[0m\u001b[0m_gen_count\u001b[0m\u001b[1;33m(\u001b[0m\u001b[1;34m'cit'\u001b[0m\u001b[1;33m)\u001b[0m\u001b[1;33m\u001b[0m\u001b[1;33m\u001b[0m\u001b[0m\n\u001b[0m\u001b[0;32m    208\u001b[0m \u001b[1;33m\u001b[0m\u001b[0m\n\u001b[0;32m    209\u001b[0m \u001b[1;33m\u001b[0m\u001b[0m\n",
      "\u001b[1;32mG:\\My Drive\\2020 ORGANISATION\\1. PROJECTS\\qualitative analysis of literature\\110 CITATION ANALYSIS\\010 analyses\\bundle 100 - knowknow reboot 10-2020\\knowknow\\datastore_cnts\\count_cache.py\u001b[0m in \u001b[0;36m_gen_count\u001b[1;34m(self, typ)\u001b[0m\n\u001b[0;32m    192\u001b[0m                     \u001b[1;32myield\u001b[0m \u001b[0mret\u001b[0m\u001b[1;33m\u001b[0m\u001b[1;33m\u001b[0m\u001b[0m\n\u001b[0;32m    193\u001b[0m \u001b[1;33m\u001b[0m\u001b[0m\n\u001b[1;32m--> 194\u001b[1;33m             \u001b[0mdd\u001b[0m \u001b[1;33m=\u001b[0m \u001b[0mpd\u001b[0m\u001b[1;33m.\u001b[0m\u001b[0mDataFrame\u001b[0m\u001b[1;33m(\u001b[0m\u001b[0mlist\u001b[0m\u001b[1;33m(\u001b[0m\u001b[0mgen\u001b[0m\u001b[1;33m(\u001b[0m\u001b[1;33m)\u001b[0m\u001b[1;33m)\u001b[0m\u001b[1;33m)\u001b[0m\u001b[1;33m\u001b[0m\u001b[1;33m\u001b[0m\u001b[0m\n\u001b[0m\u001b[0;32m    195\u001b[0m             \u001b[0mdd\u001b[0m \u001b[1;33m=\u001b[0m \u001b[0mdd\u001b[0m\u001b[1;33m.\u001b[0m\u001b[0msort_values\u001b[0m\u001b[1;33m(\u001b[0m\u001b[0msorted\u001b[0m\u001b[1;33m(\u001b[0m\u001b[0mself\u001b[0m\u001b[1;33m.\u001b[0m\u001b[0m_noneKeys\u001b[0m\u001b[1;33m)\u001b[0m\u001b[1;33m)\u001b[0m\u001b[1;33m\u001b[0m\u001b[1;33m\u001b[0m\u001b[0m\n\u001b[0;32m    196\u001b[0m             \u001b[1;32mreturn\u001b[0m \u001b[0mdd\u001b[0m\u001b[1;33m\u001b[0m\u001b[1;33m\u001b[0m\u001b[0m\n",
      "\u001b[1;32mG:\\My Drive\\2020 ORGANISATION\\1. PROJECTS\\qualitative analysis of literature\\110 CITATION ANALYSIS\\010 analyses\\bundle 100 - knowknow reboot 10-2020\\knowknow\\datastore_cnts\\count_cache.py\u001b[0m in \u001b[0;36mgen\u001b[1;34m()\u001b[0m\n\u001b[0;32m    163\u001b[0m                     ret = {\n\u001b[0;32m    164\u001b[0m                         \u001b[0mk\u001b[0m\u001b[1;33m:\u001b[0m \u001b[0mgetattr\u001b[0m\u001b[1;33m(\u001b[0m\u001b[0mitem\u001b[0m\u001b[1;33m,\u001b[0m \u001b[0mk\u001b[0m\u001b[1;33m)\u001b[0m\u001b[1;33m\u001b[0m\u001b[1;33m\u001b[0m\u001b[0m\n\u001b[1;32m--> 165\u001b[1;33m                         \u001b[1;32mfor\u001b[0m \u001b[0mk\u001b[0m \u001b[1;32min\u001b[0m \u001b[0mself\u001b[0m\u001b[1;33m.\u001b[0m\u001b[0m_noneKeys\u001b[0m\u001b[1;33m\u001b[0m\u001b[1;33m\u001b[0m\u001b[0m\n\u001b[0m\u001b[0;32m    166\u001b[0m                     }\n\u001b[0;32m    167\u001b[0m \u001b[1;33m\u001b[0m\u001b[0m\n",
      "\u001b[1;32mG:\\My Drive\\2020 ORGANISATION\\1. PROJECTS\\qualitative analysis of literature\\110 CITATION ANALYSIS\\010 analyses\\bundle 100 - knowknow reboot 10-2020\\knowknow\\datastore_cnts\\count_cache.py\u001b[0m in \u001b[0;36m<dictcomp>\u001b[1;34m(.0)\u001b[0m\n\u001b[0;32m    163\u001b[0m                     ret = {\n\u001b[0;32m    164\u001b[0m                         \u001b[0mk\u001b[0m\u001b[1;33m:\u001b[0m \u001b[0mgetattr\u001b[0m\u001b[1;33m(\u001b[0m\u001b[0mitem\u001b[0m\u001b[1;33m,\u001b[0m \u001b[0mk\u001b[0m\u001b[1;33m)\u001b[0m\u001b[1;33m\u001b[0m\u001b[1;33m\u001b[0m\u001b[0m\n\u001b[1;32m--> 165\u001b[1;33m                         \u001b[1;32mfor\u001b[0m \u001b[0mk\u001b[0m \u001b[1;32min\u001b[0m \u001b[0mself\u001b[0m\u001b[1;33m.\u001b[0m\u001b[0m_noneKeys\u001b[0m\u001b[1;33m\u001b[0m\u001b[1;33m\u001b[0m\u001b[0m\n\u001b[0m\u001b[0;32m    166\u001b[0m                     }\n\u001b[0;32m    167\u001b[0m \u001b[1;33m\u001b[0m\u001b[0m\n",
      "\u001b[1;31mAttributeError\u001b[0m: 'tuple' object has no attribute 'fy'"
     ]
    }
   ],
   "source": [
    "min_y = min( db.items('fy') )\n",
    "max_y = max( db.items('fy') )"
   ]
  },
  {
   "cell_type": "code",
   "execution_count": null,
   "metadata": {},
   "outputs": [],
   "source": [
    "citN = sum( db.by('fj').cits.values() )\n",
    "citN_m = citN / 1e6\n",
    "docN = sum( db.by('fj').docs.values() )\n",
    "\n",
    "njournals = len(db.items('fj'))\n",
    "\n",
    "wauthAve = sum( db.by('fa').docs.values() ) / docN\n",
    "cauthAve = sum( db.by('ta').docs.values() ) / docN\n",
    "cworkAve = sum( db.by('c').docs.values() ) / docN"
   ]
  },
  {
   "cell_type": "code",
   "execution_count": null,
   "metadata": {},
   "outputs": [],
   "source": [
    "cN = len(db.items('c'))\n",
    "faN = len(db.items('fa'))\n",
    "ffaN = len(db.items('ffa'))\n",
    "taN = len(db.items('ta'))"
   ]
  },
  {
   "cell_type": "markdown",
   "metadata": {},
   "source": [
    "Web of Science provides a shortened version of each cited work, which attempts to generalize over reference formats, including references made in the body of the article or in footnotes, \n",
    "    as most were before broad citation format standardization in the late 1960s and early 1970s.\n",
    "Their method of shortening has changed over time, and smudges of ink or typographical errors made by authors result in inconsistencies.\n",
    "I use a grouping algorithm to identify identical references and combine them. See Appendix for details."
   ]
  },
  {
   "cell_type": "code",
   "execution_count": null,
   "metadata": {},
   "outputs": [],
   "source": [
    "display(Markdown(\"\"\"\n",
    "As of April 2020, there were {c1:,} journal articles indexed by Web of Science in the category \"Sociology,\" distributed across {c2:,} journals.\n",
    "I limit my focus here to the journals which consistently publish sociology articles with references Web of Science is able to extract.\n",
    "I also exclude journals which were founded after 1995 or which end before 2015.\n",
    "This leaves {c3:,} journals, containing {Ndlim:,} articles published between {min_y} and {max_y}, and {Nclim:,} total citations.\n",
    "\"\"\".format(**locals())))"
   ]
  },
  {
   "cell_type": "code",
   "execution_count": null,
   "metadata": {},
   "outputs": [],
   "source": [
    "display(Markdown(\"\"\"\n",
    "After filtering journals with incomplete or limited data, \n",
    "    grouping cited reference strings by their textual similarity, \n",
    "    and ignoring cited works which receive less than five citations total, \n",
    "    I was left with {docN:,} journal articles and {citN_m:0.1f}M citations. \n",
    "Across all articles, \n",
    "    there are on average {wauthAve:0.2f} writing authors, \n",
    "        {cauthAve:0.2f} cited authors, \n",
    "        and {cworkAve:0.2f} cited works. \n",
    "In total there were \n",
    "    {cN:,} cited works, \n",
    "    {taN:,} cited authors, and \n",
    "    {faN:,} writing authors \n",
    "    ({ffaN:,} first authors). \n",
    "\"\"\".format(**locals())))"
   ]
  },
  {
   "cell_type": "code",
   "execution_count": null,
   "metadata": {},
   "outputs": [],
   "source": [
    "np.sum(list(db.by('fy').docs.values()))"
   ]
  },
  {
   "cell_type": "code",
   "execution_count": null,
   "metadata": {},
   "outputs": [],
   "source": [
    "c = db.by('fj').cits\n",
    "d = db.by('fj').docs\n",
    "print( max(db.items('fj'), key=lambda x:c[(x,)]/d[(x,)]) )\n",
    "print( min(db.items('fj'), key=lambda x:c[(x,)]/d[(x,)]) )"
   ]
  },
  {
   "cell_type": "code",
   "execution_count": null,
   "metadata": {},
   "outputs": [],
   "source": [
    "st_ave = db(fj='sociological theory').cits / db(fj='sociological theory').docs\n",
    "soc_ave = db(fj='society').cits / db(fj='society').docs"
   ]
  },
  {
   "cell_type": "code",
   "execution_count": null,
   "metadata": {},
   "outputs": [],
   "source": [
    "top5 = sorted( db.items('fj'), key=lambda x: -db(fj=x).cits )[:5]"
   ]
  },
  {
   "cell_type": "code",
   "execution_count": null,
   "metadata": {},
   "outputs": [],
   "source": [
    "top5str = [\"*{}* ({})\".format(x.title(), db(fj=x).cits) for x in top5]\n",
    "top5str = \", \".join(top5str[:-1]) + \", and \" + top5str[-1]\n",
    "top5prop = sum( db(fj=x).cits for x in top5 ) / sum( db(fj=x).cits for x in db.items('fj') )\n",
    "top5propd = sum( db(fj=x).docs for x in top5 ) / sum( db(fj=x).docs for x in db.items('fj') )"
   ]
  },
  {
   "cell_type": "code",
   "execution_count": null,
   "metadata": {},
   "outputs": [],
   "source": [
    "display(Markdown(\"\"\"\n",
    "Sociological Theory produces the most citations per article, at {st_ave:0.1f}. \n",
    "Meanwhile Society produces just {soc_ave:0.1f} citations per article. \n",
    "Society’s format does not beg for citations at all, \n",
    "    while papers published in Sociological Theory are often an extended “theoretical motivation” section.\n",
    "Web of Science provides the most citations for the journals {top5str}. \n",
    "Together these five journals comprise {top5prop:0.0%} of all citations ({top5propd:0.0%} of documents) in this dataset.\n",
    "\"\"\".format(**locals())))"
   ]
  },
  {
   "cell_type": "code",
   "execution_count": null,
   "metadata": {},
   "outputs": [],
   "source": [
    "d50 = sum( db(fy=YY).docs for YY in range(1950,1960) )\n",
    "c50 = sum( db(fy=YY).cits for YY in range(1950,1960) )\n",
    "cd50 = c50/d50\n",
    "j50 = len(set( fj for (fj,fy),c in db.by('fj','fy').cits.items() if c > 0 and fy in range(1950,1960) ))\n",
    "\n",
    "\n",
    "d00 = sum( db(fy=YY).docs for YY in range(2000,2010) )\n",
    "c00 = sum( db(fy=YY).cits for YY in range(2000,2010) )\n",
    "cd00 = c00/d00\n",
    "j00 = len(set( fj for (fj,fy),c in db.by('fj','fy').cits.items() if c > 0 and fy in range(2000,2010) ))\n",
    "\n",
    "d2019 = db(fy=2019).docs"
   ]
  },
  {
   "cell_type": "code",
   "execution_count": null,
   "metadata": {},
   "outputs": [],
   "source": [
    "display(Markdown(\"\"\"\n",
    "Only {d50:,} articles were published in {j50:,} journals from 1950-1959 ({cd50:0.1f} citations per article),\n",
    "    compared to {d00:,} articles in {j00:,} journals from 2000-2009 ({cd00:0.1f} citations per article).\n",
    "In 2019 alone there were {d2019:,} articles published.\n",
    "\"\"\".format(**locals())))"
   ]
  },
  {
   "cell_type": "markdown",
   "metadata": {},
   "source": [
    "# citing authors"
   ]
  },
  {
   "cell_type": "code",
   "execution_count": null,
   "metadata": {},
   "outputs": [],
   "source": [
    "fc = db.by('fa').docs\n",
    "\n",
    "num1 = len(db.items('fa'))\n",
    "num2 = len([_ for (a,),c in fc.items() if c == 1])\n",
    "p2 = num2 / num1\n",
    "\n",
    "an = sorted(fc.items(), key=lambda x:-x[1])\n",
    "an = an[:10]\n",
    "def transa(x):\n",
    "    (x,),c = x\n",
    "    x = x.split(\", \")\n",
    "    return (x[1]+\". \"+x[0]).title() + \" (%s)\"%c\n",
    "an = [transa(x) for x in an]\n",
    "an = \", \".join(an[:-1]) + \" and \" + an[-1]"
   ]
  },
  {
   "cell_type": "code",
   "execution_count": null,
   "metadata": {},
   "outputs": [],
   "source": [
    "len([y for y in fc.values() if y>20])"
   ]
  },
  {
   "cell_type": "code",
   "execution_count": null,
   "metadata": {},
   "outputs": [],
   "source": [
    "num3 = len([_ for (a,),c in fc.items() if c >20])\n",
    "num4 = len([_ for (a,),c in fc.items() if c >40])"
   ]
  },
  {
   "cell_type": "code",
   "execution_count": null,
   "metadata": {},
   "outputs": [],
   "source": [
    "display(Markdown(\"\"\"\n",
    "Of the {num1:,} authors who published in this context, {num2:,} only published a single time ({p2:0.0%}).\n",
    "{num3:,} authors have published more than 20 papers, and just {num4:,} published more than 40.\n",
    "The top ten publishing first authors are {an}.\n",
    "It is no accident that \"Smith\" shows up regularly in this list, a reminder that author names are not disambiguated.\n",
    "\"\"\".format(**locals())))"
   ]
  },
  {
   "cell_type": "code",
   "execution_count": null,
   "metadata": {},
   "outputs": [],
   "source": [
    "plt.hist(fc.values())"
   ]
  },
  {
   "cell_type": "markdown",
   "metadata": {},
   "source": [
    "# cited authors"
   ]
  },
  {
   "cell_type": "code",
   "execution_count": null,
   "metadata": {},
   "outputs": [],
   "source": [
    "fc = db.by('ta').docs\n",
    "\n",
    "num1 = len(db.items('ta'))\n",
    "num2 = len([_ for (a,),c in fc.items() if c == 5])\n",
    "p2 = num2 / num1\n",
    "\n",
    "an = sorted(fc.items(), key=lambda x:-x[1])\n",
    "an = an[:20]\n",
    "def transa(x):\n",
    "    (x,),c = x\n",
    "    x = x.split(\", \")\n",
    "    return (x[1]+\" \"+x[0]).title() + \" (%s citations)\"%c\n",
    "    #return (x[1]+\" \"+x[0]).title() + \" ({:,} citations)\".format(c)\n",
    "an = [transa(x) for x in an]\n",
    "an = \", \".join(an[:-1]) + \" and \" + an[-1]"
   ]
  },
  {
   "cell_type": "code",
   "execution_count": null,
   "metadata": {},
   "outputs": [],
   "source": [
    "num3 = len([_ for (a,),c in fc.items() if c >100])\n",
    "p3 = num3/num1\n",
    "num4 = len([_ for (a,),c in fc.items() if c >1000])\n",
    "p4 = num4/num1"
   ]
  },
  {
   "cell_type": "code",
   "execution_count": null,
   "metadata": {},
   "outputs": [],
   "source": [
    "display(Markdown(\"\"\"\n",
    "I have already filtered cited works with less than five citations, so all {num1:,} cited authors in this dataset have at least five citations.\n",
    "Of these, {num2:,} ({p2:0.0%}) were cited less than 10 times, {num3:,} ({p3:0.0%}) were cited at least 100 times and {num4} were cited at least 1000 times in this dataset.\n",
    "The top authors cited in this dataset were {an}.\n",
    "\"\"\".format(**locals())))"
   ]
  },
  {
   "cell_type": "markdown",
   "metadata": {},
   "source": [
    "# cited works"
   ]
  },
  {
   "cell_type": "code",
   "execution_count": null,
   "metadata": {},
   "outputs": [],
   "source": [
    "fc = db.by('c').docs\n",
    "\n",
    "num1 = len(db.items('c'))\n",
    "num2 = len([_ for (a,),c in fc.items() if c == 5])\n",
    "p2 = num2 / num1\n",
    "\n",
    "an = sorted(fc.items(), key=lambda x:-x[1])\n",
    "an = an[:10]\n",
    "def transa(x):\n",
    "    (x,),c = x\n",
    "    x = x.split(\"|\")\n",
    "    if len(x)==2:\n",
    "        a,w = x\n",
    "        #return (\"%s (??)\"%a).title() + \" (%s citations)\"%c\n",
    "    elif len(x)==3:\n",
    "        a,y,w = x\n",
    "        #return (\"%s (%s)\"%(a,y)).title() + \" (%s citations)\"%c\n",
    "    print (a, \"-\", w)\n",
    "    a = a.split(\",\")[0]\n",
    "    a = a.title()\n",
    "    a = a+\"'s\"\n",
    "    \n",
    "    w = w.title()\n",
    "    return (\"%s %s (%s)\"%(a,w,c))\n",
    "    #return (x[1]+\" \"+x[0]).title() + \" ({:,} citations)\".format(c)\n",
    "an = [transa(x) for x in an]\n",
    "an = \", \".join(an[:-1]) + \" and \" + an[-1]"
   ]
  },
  {
   "cell_type": "code",
   "execution_count": null,
   "metadata": {},
   "outputs": [],
   "source": [
    "num3 = len([_ for (a,),c in fc.items() if c >100])\n",
    "p3 = num3/num1\n",
    "num4 = len([_ for (a,),c in fc.items() if c >1000])\n",
    "p4 = num4/num1"
   ]
  },
  {
   "cell_type": "code",
   "execution_count": null,
   "metadata": {},
   "outputs": [],
   "source": [
    "display(Markdown(\"\"\"\n",
    "All {num1:,} cited works in this dataset have at least five citations.\n",
    "Of these, {num2:,} ({p2:0.0%}) were cited less than 10 times, {num3:,} ({p3:0.0%}) were cited at least 100 times and {num4} were cited at least 1000 times in this dataset.\n",
    "The top cited works in this dataset were {an}.\n",
    "\"\"\".format(**locals())))"
   ]
  },
  {
   "cell_type": "code",
   "execution_count": null,
   "metadata": {},
   "outputs": [],
   "source": []
  }
 ],
 "metadata": {
  "kernelspec": {
   "display_name": "Python 3",
   "language": "python",
   "name": "python3"
  },
  "language_info": {
   "codemirror_mode": {
    "name": "ipython",
    "version": 3
   },
   "file_extension": ".py",
   "mimetype": "text/x-python",
   "name": "python",
   "nbconvert_exporter": "python",
   "pygments_lexer": "ipython3",
   "version": "3.7.5"
  },
  "toc-showmarkdowntxt": true
 },
 "nbformat": 4,
 "nbformat_minor": 4
}
