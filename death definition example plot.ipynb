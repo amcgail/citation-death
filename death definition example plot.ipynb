{
 "cells": [
  {
   "cell_type": "code",
   "execution_count": 2,
   "metadata": {},
   "outputs": [],
   "source": [
    "import sys; sys.path.append(_dh[0].split(\"knowknow\")[0])\n",
    "from knowknow import *\n",
    "\n",
    "database_name = 'sociology-wos'"
   ]
  },
  {
   "cell_type": "code",
   "execution_count": 7,
   "metadata": {},
   "outputs": [],
   "source": [
    "to_illustrate = ['c','ta','fa']\n",
    "to_illustrated = ['death_0', 'death_1', 'death_2', 'death_3', 'death_5','rebirth_3_10']"
   ]
  },
  {
   "cell_type": "code",
   "execution_count": 3,
   "metadata": {},
   "outputs": [
    {
     "name": "stdout",
     "output_type": "stream",
     "text": [
      "Loaded keys: dict_keys(['c', 'ta', 'fa', 'c.fy', 'fy.ta', 'fa.fy'])\n",
      "Available keys: ['a', 'c', 'c.c', 'c.fj', 'c.fy', 'c.fy.j', 'fa', 'fa.c', 'fa.fj', 'fa.fj.fy', 'fa.fy', 'fj', 'fj.fy', 'fj.ta', 'fj.ty', 'fy', 'fy.ta', 'fy.ty', 'ta', 'ty', 'ty.ty']\n"
     ]
    }
   ],
   "source": [
    "cits = get_cnt(\"%s.doc\"%database_name, \n",
    "               to_illustrate + [comb(x,'fy') for x in to_illustrate]\n",
    "              )"
   ]
  },
  {
   "cell_type": "code",
   "execution_count": 6,
   "metadata": {},
   "outputs": [
    {
     "name": "stdout",
     "output_type": "stream",
     "text": [
      "['death_0', 'death_1', 'death_2', 'death_3', 'death_5', 'first', 'last', 'maxcount', 'maxcounty', 'maxprop', 'maxpropy', 'name', 'pub', 'rebirth_0_10', 'rebirth_0_20', 'rebirth_0_3', 'rebirth_0_5', 'rebirth_1_10', 'rebirth_1_20', 'rebirth_1_3', 'rebirth_1_5', 'rebirth_2_10', 'rebirth_2_20', 'rebirth_2_3', 'rebirth_2_5', 'rebirth_3_10', 'rebirth_3_20', 'rebirth_3_3', 'rebirth_3_5', 'rebirth_5_0', 'rebirth_5_1', 'rebirth_5_10', 'rebirth_5_2', 'rebirth_5_20', 'rebirth_5_3', 'rebirth_5_4', 'rebirth_5_5', 'rebirth_5_6', 'rebirth_5_7', 'rebirth_5_8', 'rebirth_5_9', 'total', 'totalprop', 'type']\n"
     ]
    }
   ],
   "source": [
    "for dtype in to_illustrate:\n",
    "    \n",
    "    ysum = load_variable(\"%s.%s.ysum\" % (database_name,dtype))\n",
    "    \n",
    "    toloop = sorted(ysum.values(), key=lambda x: -x['total'])\n",
    "    \n",
    "    defs = None\n",
    "    for ys in toloop:\n",
    "        if defs is None:\n",
    "            defs = sorted(ys)\n",
    "        if not len(defs):\n",
    "        choice\n",
    "    print(sorted(defs))\n",
    "    break\n",
    "    select = 1"
   ]
  },
  {
   "cell_type": "code",
   "execution_count": null,
   "metadata": {},
   "outputs": [],
   "source": []
  }
 ],
 "metadata": {
  "kernelspec": {
   "display_name": "Python 3",
   "language": "python",
   "name": "python3"
  },
  "language_info": {
   "codemirror_mode": {
    "name": "ipython",
    "version": 3
   },
   "file_extension": ".py",
   "mimetype": "text/x-python",
   "name": "python",
   "nbconvert_exporter": "python",
   "pygments_lexer": "ipython3",
   "version": "3.7.5"
  }
 },
 "nbformat": 4,
 "nbformat_minor": 4
}
