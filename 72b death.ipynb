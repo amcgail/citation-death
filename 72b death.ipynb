{
 "cells": [
  {
   "cell_type": "code",
   "execution_count": 2,
   "metadata": {},
   "outputs": [
    {
     "name": "stdout",
     "output_type": "stream",
     "text": [
      "loading variable sociology-wos-74b/groups from disk\n",
      "loading variable sociology-wos-74b/group_reps from disk\n",
      "loading variable sociology-wos-74b/_attributes from disk\n"
     ]
    }
   ],
   "source": [
    "from knowknow import *\n",
    "db = Dataset('sociology-wos-74b')"
   ]
  },
  {
   "cell_type": "code",
   "execution_count": 3,
   "metadata": {},
   "outputs": [
    {
     "name": "stdout",
     "output_type": "stream",
     "text": [
      "loading variable sociology-wos-74b/c.births_deaths from disk\n",
      "loading variable sociology-wos-74b/fa.births_deaths from disk\n",
      "loading variable sociology-wos-74b/ta.births_deaths from disk\n"
     ]
    }
   ],
   "source": [
    "dfs = {\n",
    "    key: db.load_variable('%s.births_deaths' % key)\n",
    "    for key in ['c','fa','ta']\n",
    "}"
   ]
  },
  {
   "cell_type": "markdown",
   "metadata": {},
   "source": [
    "# uncategorized analysis"
   ]
  },
  {
   "cell_type": "code",
   "execution_count": 4,
   "metadata": {},
   "outputs": [],
   "source": [
    "births_deaths = require('citation-deaths/births_deaths')"
   ]
  },
  {
   "cell_type": "code",
   "execution_count": 5,
   "metadata": {},
   "outputs": [
    {
     "name": "stdout",
     "output_type": "stream",
     "text": [
      "loading variable sociology-wos-74b/ind ___ c from disk\n",
      "loading variable sociology-wos-74b/ind ___ c.fy from disk\n",
      "loading variable sociology-wos-74b/ind ___ fy from disk\n"
     ]
    }
   ],
   "source": [
    "to_check = []\n",
    "\n",
    "death_in_10 = defaultdict(int)\n",
    "death0_in_10 = defaultdict(int)\n",
    "total = defaultdict(int)\n",
    "total_total_outside = 0\n",
    "total_total_inside = 0\n",
    "\n",
    "for x in db.items('c'):\n",
    "    total_total_outside += 1\n",
    "    if db(c=x).cits < 5:\n",
    "        continue\n",
    "    t = db.trend('c', x)\n",
    "    \n",
    "    if t.first > 1990:\n",
    "        continue\n",
    "    \n",
    "    #if sum( t.cits(t.first,t.first+5) ) < 5:\n",
    "    #    continue\n",
    "    \n",
    "    total[ t.first ] += 1\n",
    "    \n",
    "    B,D = births_deaths(t, 0.5, 0.3)\n",
    "    if len(D) and D[0] <= t.first+9:\n",
    "        death_in_10[ t.first ] += 1;\n",
    "        \n",
    "    B,D = births_deaths(t, 0.5, 0.1)\n",
    "    if len(D) and D[0] <= t.first+9:\n",
    "        death0_in_10[ t.first ] += 1;\n",
    "    \n",
    "    to_check.append(t)\n",
    "    total_total_inside += 1"
   ]
  },
  {
   "cell_type": "code",
   "execution_count": 6,
   "metadata": {},
   "outputs": [
    {
     "data": {
      "text/plain": [
       "35412"
      ]
     },
     "execution_count": 6,
     "metadata": {},
     "output_type": "execute_result"
    }
   ],
   "source": [
    "len(to_check)"
   ]
  },
  {
   "cell_type": "code",
   "execution_count": 7,
   "metadata": {},
   "outputs": [],
   "source": [
    "tc2 = [t for t in to_check if t.first == 1980]"
   ]
  },
  {
   "cell_type": "code",
   "execution_count": 8,
   "metadata": {},
   "outputs": [
    {
     "data": {
      "text/plain": [
       "7647"
      ]
     },
     "execution_count": 8,
     "metadata": {},
     "output_type": "execute_result"
    }
   ],
   "source": [
    "sum(death0_in_10.values())"
   ]
  },
  {
   "cell_type": "code",
   "execution_count": 9,
   "metadata": {},
   "outputs": [
    {
     "data": {
      "text/plain": [
       "(0.0, 1.0)"
      ]
     },
     "execution_count": 9,
     "metadata": {},
     "output_type": "execute_result"
    },
    {
     "data": {
      "image/png": "[encoded data removed]",
      "text/plain": [
       "<Figure size 432x288 with 2 Axes>"
      ]
     },
     "metadata": {},
     "output_type": "display_data"
    }
   ],
   "source": [
    "plt.subplot(211)\n",
    "plt.plot([total[YY] for YY in range(1960,1990)])\n",
    "#plt.ylim(0,1000)\n",
    "\n",
    "plt.subplot(212)\n",
    "plt.plot([death_in_10[YY]/total[YY] for YY in range(1960,1990)])\n",
    "plt.plot([death0_in_10[YY]/total[YY] for YY in range(1960,1990)])\n",
    "plt.ylim(0,1)"
   ]
  },
  {
   "cell_type": "code",
   "execution_count": 10,
   "metadata": {},
   "outputs": [],
   "source": [
    "c2 = death_in_10[1980]/total[1980]"
   ]
  },
  {
   "cell_type": "markdown",
   "metadata": {},
   "source": [
    "# Original\n",
    "\n",
    "For cited works, there were only 12 rebirths1.0 to deaths0.1 in this dataset with at least 20 total citations. These 12 are extreme in many ways, having more citations than most, having an extreme death, and finally being reborn. I show these 8 most dramatic rebirths in Figure 2, hoping the reader will know what to make of these peculiarities.\n",
    "\n",
    "Up to this point I have painted cited works as destined to die. However, this is not true for the 1%, the best of the best. Figure 2 shows in detail how the propensity to dieβ decreases as I consider works which had more citations in this time frame. For cited works in a decade’s top 1%, total annihilation is no longer expected and inevitable. Instead, with reasonable probability their work will last 35 years. \n",
    "\n",
    "I define deaths as “remarkable” if they are highly unexpected given a decade of citation records for that work. In Figure 3 these remarkable deaths can be seen as bumps in the tail of death0 and death1. As the number of citations in 1975-1985 increases, the proportion who die0.1 or worse approaches zero. The number of cited works in this range also approaches zero, and in the intersection of these two improbable places to be, highly cited that decade and now dead0.1, are remarkable deaths. By design, there are very few “remarkable deaths” of cited works, but even fewer for cited authors. Of course, no writing author’s death would be very remarkable. \n",
    "\n",
    "The examination of remarkable deaths shifts attention from the process of being cited, acquiring followers, and forming institutions to those processes which stop citations from happening. Researchers die, and a dead researcher cannot cite. Programs or journals are defunded. Academic stigma and editorial biases shift over time, making a work uncitable . Or there is no longer ongoing interest in the work’s subject matter among practicing researchers. These processes are interesting in their own right, but also have implications for the meaning of citation counts. Indeed, such influences suggest it should be near impossible to predict citation counts for a given paper without overfitting to a large number of parameters, or similarly without a deep understanding of the academic environment in which these authors are citing. \n",
    "\n",
    "Why did these central works die? Were their deaths random, unpredictable, or is there a good explanation? How do their deaths converse with theories of the development of scientific knowledge? What do explanations of these works’ deaths mean for newborn or soon to be born works, or for the bottom 99.9%? I postpone answers to these difficult questions for the moment, and instead simply present these deaths to you for your inspection and interpretation (see Figures 4-7). Observe the remarkable diversity in life-course in the random sample of top 1% authors (Figure 7)."
   ]
  },
  {
   "cell_type": "markdown",
   "metadata": {},
   "source": [
    "# absolute\n",
    "\n",
    "Each citation represents some fundamental unit of attention and incorporation into academic discourse and thought. 10 citations per year to a paper represents 10 authors every year who managed to publish such a citation, which in turn represents an institutional space for these authors in proportion to their number. In addition, we do not want to classify authors as \"dead,\" When they're doing as well in absolute numbers as they've always done, they just aren't keeping up with the explosion in published in sociology."
   ]
  },
  {
   "cell_type": "markdown",
   "metadata": {},
   "source": [
    "## how likely are works/authors to die?"
   ]
  },
  {
   "cell_type": "code",
   "execution_count": 13,
   "metadata": {},
   "outputs": [],
   "source": [
    "df = dfs['c']"
   ]
  },
  {
   "cell_type": "code",
   "execution_count": 14,
   "metadata": {},
   "outputs": [
    {
     "data": {
      "text/html": [
       "<div>\n",
       "<style scoped>\n",
       "    .dataframe tbody tr th:only-of-type {\n",
       "        vertical-align: middle;\n",
       "    }\n",
       "\n",
       "    .dataframe tbody tr th {\n",
       "        vertical-align: top;\n",
       "    }\n",
       "\n",
       "    .dataframe thead th {\n",
       "        text-align: right;\n",
       "    }\n",
       "</style>\n",
       "<table border=\"1\" class=\"dataframe\">\n",
       "  <thead>\n",
       "    <tr style=\"text-align: right;\">\n",
       "      <th></th>\n",
       "      <th>first</th>\n",
       "      <th>total</th>\n",
       "      <th>maxcount</th>\n",
       "      <th>maxcounty</th>\n",
       "      <th>name</th>\n",
       "      <th>isTop</th>\n",
       "      <th>death0</th>\n",
       "      <th>life1_avg0</th>\n",
       "      <th>rebirth1_5</th>\n",
       "      <th>death1</th>\n",
       "      <th>rebirth1_10</th>\n",
       "      <th>life1_avg1</th>\n",
       "      <th>rebirth3_10</th>\n",
       "      <th>death3</th>\n",
       "      <th>life1_avg3</th>\n",
       "    </tr>\n",
       "  </thead>\n",
       "  <tbody>\n",
       "    <tr>\n",
       "      <th>0</th>\n",
       "      <td>1983</td>\n",
       "      <td>12</td>\n",
       "      <td>2</td>\n",
       "      <td>1991</td>\n",
       "      <td>Aalen, O.|1978|ann stat,v6,p701</td>\n",
       "      <td>True</td>\n",
       "      <td>-1</td>\n",
       "      <td>0.363636</td>\n",
       "      <td>-1</td>\n",
       "      <td>-1</td>\n",
       "      <td>-1</td>\n",
       "      <td>0.363636</td>\n",
       "      <td>-1</td>\n",
       "      <td>1994</td>\n",
       "      <td>0.818182</td>\n",
       "    </tr>\n",
       "    <tr>\n",
       "      <th>1</th>\n",
       "      <td>1985</td>\n",
       "      <td>8</td>\n",
       "      <td>2</td>\n",
       "      <td>1993</td>\n",
       "      <td>Aaron, H.|painful prescription</td>\n",
       "      <td>True</td>\n",
       "      <td>2005</td>\n",
       "      <td>0.400000</td>\n",
       "      <td>-1</td>\n",
       "      <td>2005</td>\n",
       "      <td>-1</td>\n",
       "      <td>0.400000</td>\n",
       "      <td>-1</td>\n",
       "      <td>1994</td>\n",
       "      <td>0.666667</td>\n",
       "    </tr>\n",
       "    <tr>\n",
       "      <th>2</th>\n",
       "      <td>1979</td>\n",
       "      <td>10</td>\n",
       "      <td>2</td>\n",
       "      <td>1990</td>\n",
       "      <td>Aaron, H.|politics professors</td>\n",
       "      <td>True</td>\n",
       "      <td>1998</td>\n",
       "      <td>0.473684</td>\n",
       "      <td>-1</td>\n",
       "      <td>1998</td>\n",
       "      <td>-1</td>\n",
       "      <td>0.473684</td>\n",
       "      <td>-1</td>\n",
       "      <td>1992</td>\n",
       "      <td>0.615385</td>\n",
       "    </tr>\n",
       "    <tr>\n",
       "      <th>3</th>\n",
       "      <td>1978</td>\n",
       "      <td>6</td>\n",
       "      <td>2</td>\n",
       "      <td>1985</td>\n",
       "      <td>Aaron, H.|studies ec income ma</td>\n",
       "      <td>True</td>\n",
       "      <td>1989</td>\n",
       "      <td>0.545455</td>\n",
       "      <td>-1</td>\n",
       "      <td>1989</td>\n",
       "      <td>-1</td>\n",
       "      <td>0.545455</td>\n",
       "      <td>-1</td>\n",
       "      <td>1988</td>\n",
       "      <td>0.500000</td>\n",
       "    </tr>\n",
       "    <tr>\n",
       "      <th>4</th>\n",
       "      <td>1980</td>\n",
       "      <td>6</td>\n",
       "      <td>2</td>\n",
       "      <td>1980</td>\n",
       "      <td>Aaron, H.|who pays property ta</td>\n",
       "      <td>True</td>\n",
       "      <td>2002</td>\n",
       "      <td>0.272727</td>\n",
       "      <td>-1</td>\n",
       "      <td>2002</td>\n",
       "      <td>-1</td>\n",
       "      <td>0.272727</td>\n",
       "      <td>-1</td>\n",
       "      <td>1986</td>\n",
       "      <td>0.666667</td>\n",
       "    </tr>\n",
       "  </tbody>\n",
       "</table>\n",
       "</div>"
      ],
      "text/plain": [
       "   first  total  maxcount  maxcounty                             name  isTop  \\\n",
       "0   1983     12         2       1991  Aalen, O.|1978|ann stat,v6,p701   True   \n",
       "1   1985      8         2       1993   Aaron, H.|painful prescription   True   \n",
       "2   1979     10         2       1990    Aaron, H.|politics professors   True   \n",
       "3   1978      6         2       1985   Aaron, H.|studies ec income ma   True   \n",
       "4   1980      6         2       1980   Aaron, H.|who pays property ta   True   \n",
       "\n",
       "   death0  life1_avg0  rebirth1_5  death1  rebirth1_10  life1_avg1  \\\n",
       "0      -1    0.363636          -1      -1           -1    0.363636   \n",
       "1    2005    0.400000          -1    2005           -1    0.400000   \n",
       "2    1998    0.473684          -1    1998           -1    0.473684   \n",
       "3    1989    0.545455          -1    1989           -1    0.545455   \n",
       "4    2002    0.272727          -1    2002           -1    0.272727   \n",
       "\n",
       "   rebirth3_10  death3  life1_avg3  \n",
       "0           -1    1994    0.818182  \n",
       "1           -1    1994    0.666667  \n",
       "2           -1    1992    0.615385  \n",
       "3           -1    1988    0.500000  \n",
       "4           -1    1986    0.666667  "
      ]
     },
     "execution_count": 14,
     "metadata": {},
     "output_type": "execute_result"
    }
   ],
   "source": [
    "df.head()"
   ]
  },
  {
   "cell_type": "code",
   "execution_count": 15,
   "metadata": {},
   "outputs": [],
   "source": [
    "args = [\n",
    "    ('c', 'cited works'),\n",
    "    ('ta', 'cited authors'),\n",
    "    ('fa', 'citing authors'),\n",
    "]"
   ]
  },
  {
   "cell_type": "code",
   "execution_count": 16,
   "metadata": {},
   "outputs": [
    {
     "data": {
      "text/plain": [
       "(45335, 15)"
      ]
     },
     "execution_count": 16,
     "metadata": {},
     "output_type": "execute_result"
    }
   ],
   "source": [
    "df.shape"
   ]
  },
  {
   "cell_type": "code",
   "execution_count": 17,
   "metadata": {},
   "outputs": [
    {
     "data": {
      "text/html": [
       "<div>\n",
       "<style scoped>\n",
       "    .dataframe tbody tr th:only-of-type {\n",
       "        vertical-align: middle;\n",
       "    }\n",
       "\n",
       "    .dataframe tbody tr th {\n",
       "        vertical-align: top;\n",
       "    }\n",
       "\n",
       "    .dataframe thead th {\n",
       "        text-align: right;\n",
       "    }\n",
       "</style>\n",
       "<table border=\"1\" class=\"dataframe\">\n",
       "  <thead>\n",
       "    <tr style=\"text-align: right;\">\n",
       "      <th></th>\n",
       "      <th>first</th>\n",
       "      <th>total</th>\n",
       "      <th>maxcount</th>\n",
       "      <th>maxcounty</th>\n",
       "      <th>name</th>\n",
       "      <th>isTop</th>\n",
       "      <th>death0</th>\n",
       "      <th>life1_avg0</th>\n",
       "      <th>rebirth1_5</th>\n",
       "      <th>death1</th>\n",
       "      <th>rebirth1_10</th>\n",
       "      <th>life1_avg1</th>\n",
       "      <th>rebirth3_10</th>\n",
       "      <th>death3</th>\n",
       "      <th>life1_avg3</th>\n",
       "    </tr>\n",
       "  </thead>\n",
       "  <tbody>\n",
       "    <tr>\n",
       "      <th>0</th>\n",
       "      <td>1983</td>\n",
       "      <td>12</td>\n",
       "      <td>2</td>\n",
       "      <td>1991</td>\n",
       "      <td>Aalen, O.|1978|ann stat,v6,p701</td>\n",
       "      <td>True</td>\n",
       "      <td>-1</td>\n",
       "      <td>0.363636</td>\n",
       "      <td>-1</td>\n",
       "      <td>-1</td>\n",
       "      <td>-1</td>\n",
       "      <td>0.363636</td>\n",
       "      <td>-1</td>\n",
       "      <td>1994</td>\n",
       "      <td>0.818182</td>\n",
       "    </tr>\n",
       "    <tr>\n",
       "      <th>1</th>\n",
       "      <td>1985</td>\n",
       "      <td>8</td>\n",
       "      <td>2</td>\n",
       "      <td>1993</td>\n",
       "      <td>Aaron, H.|painful prescription</td>\n",
       "      <td>True</td>\n",
       "      <td>2005</td>\n",
       "      <td>0.400000</td>\n",
       "      <td>-1</td>\n",
       "      <td>2005</td>\n",
       "      <td>-1</td>\n",
       "      <td>0.400000</td>\n",
       "      <td>-1</td>\n",
       "      <td>1994</td>\n",
       "      <td>0.666667</td>\n",
       "    </tr>\n",
       "    <tr>\n",
       "      <th>2</th>\n",
       "      <td>1979</td>\n",
       "      <td>10</td>\n",
       "      <td>2</td>\n",
       "      <td>1990</td>\n",
       "      <td>Aaron, H.|politics professors</td>\n",
       "      <td>True</td>\n",
       "      <td>1998</td>\n",
       "      <td>0.473684</td>\n",
       "      <td>-1</td>\n",
       "      <td>1998</td>\n",
       "      <td>-1</td>\n",
       "      <td>0.473684</td>\n",
       "      <td>-1</td>\n",
       "      <td>1992</td>\n",
       "      <td>0.615385</td>\n",
       "    </tr>\n",
       "    <tr>\n",
       "      <th>3</th>\n",
       "      <td>1978</td>\n",
       "      <td>6</td>\n",
       "      <td>2</td>\n",
       "      <td>1985</td>\n",
       "      <td>Aaron, H.|studies ec income ma</td>\n",
       "      <td>True</td>\n",
       "      <td>1989</td>\n",
       "      <td>0.545455</td>\n",
       "      <td>-1</td>\n",
       "      <td>1989</td>\n",
       "      <td>-1</td>\n",
       "      <td>0.545455</td>\n",
       "      <td>-1</td>\n",
       "      <td>1988</td>\n",
       "      <td>0.500000</td>\n",
       "    </tr>\n",
       "    <tr>\n",
       "      <th>4</th>\n",
       "      <td>1980</td>\n",
       "      <td>6</td>\n",
       "      <td>2</td>\n",
       "      <td>1980</td>\n",
       "      <td>Aaron, H.|who pays property ta</td>\n",
       "      <td>True</td>\n",
       "      <td>2002</td>\n",
       "      <td>0.272727</td>\n",
       "      <td>-1</td>\n",
       "      <td>2002</td>\n",
       "      <td>-1</td>\n",
       "      <td>0.272727</td>\n",
       "      <td>-1</td>\n",
       "      <td>1986</td>\n",
       "      <td>0.666667</td>\n",
       "    </tr>\n",
       "  </tbody>\n",
       "</table>\n",
       "</div>"
      ],
      "text/plain": [
       "   first  total  maxcount  maxcounty                             name  isTop  \\\n",
       "0   1983     12         2       1991  Aalen, O.|1978|ann stat,v6,p701   True   \n",
       "1   1985      8         2       1993   Aaron, H.|painful prescription   True   \n",
       "2   1979     10         2       1990    Aaron, H.|politics professors   True   \n",
       "3   1978      6         2       1985   Aaron, H.|studies ec income ma   True   \n",
       "4   1980      6         2       1980   Aaron, H.|who pays property ta   True   \n",
       "\n",
       "   death0  life1_avg0  rebirth1_5  death1  rebirth1_10  life1_avg1  \\\n",
       "0      -1    0.363636          -1      -1           -1    0.363636   \n",
       "1    2005    0.400000          -1    2005           -1    0.400000   \n",
       "2    1998    0.473684          -1    1998           -1    0.473684   \n",
       "3    1989    0.545455          -1    1989           -1    0.545455   \n",
       "4    2002    0.272727          -1    2002           -1    0.272727   \n",
       "\n",
       "   rebirth3_10  death3  life1_avg3  \n",
       "0           -1    1994    0.818182  \n",
       "1           -1    1994    0.666667  \n",
       "2           -1    1992    0.615385  \n",
       "3           -1    1988    0.500000  \n",
       "4           -1    1986    0.666667  "
      ]
     },
     "execution_count": 17,
     "metadata": {},
     "output_type": "execute_result"
    }
   ],
   "source": [
    "df.head()"
   ]
  },
  {
   "cell_type": "code",
   "execution_count": 18,
   "metadata": {},
   "outputs": [
    {
     "data": {
      "text/markdown": [
       "Of the 45,335 cited works whose first citation was before 1995, \n",
       "        77% have died (β = 0.3),\n",
       "        58% have died (β = 0.1),\n",
       "        and 56% have had a total academic death (β = 0).  Of the 17,181 cited authors whose first citation was before 1995, \n",
       "        59% have died (β = 0.3),\n",
       "        42% have died (β = 0.1),\n",
       "        and 39% have had a total academic death (β = 0).  Of the 21,309 citing authors whose first citation was before 1995, \n",
       "        95% have died (β = 0.3),\n",
       "        93% have died (β = 0.1),\n",
       "        and 91% have had a total academic death (β = 0).  "
      ],
      "text/plain": [
       "<IPython.core.display.Markdown object>"
      ]
     },
     "metadata": {},
     "output_type": "display_data"
    }
   ],
   "source": [
    "strin = \"\"\n",
    "for typ, name in args:\n",
    "    df = dfs[typ]\n",
    "    #print(df.shape)\n",
    "    #print(df.head())\n",
    "    \n",
    "    n1 = df.shape[0]\n",
    "    n3 = df[df.death3>0].shape[0] / n1\n",
    "    n4 = df[df.death1>0].shape[0] / n1\n",
    "    n5 = df[df.death0>0].shape[0] / n1\n",
    "\n",
    "    strin += \"\"\"Of the {n1:,} {name} whose first citation was before 1995, \n",
    "        {n3:0.0%} have died (β = 0.3),\n",
    "        {n4:0.0%} have died (β = 0.1),\n",
    "        and {n5:0.0%} have had a total academic death (β = 0).  \"\"\".format(**locals())\n",
    "    \n",
    "display(Markdown(strin))"
   ]
  },
  {
   "cell_type": "code",
   "execution_count": 19,
   "metadata": {},
   "outputs": [
    {
     "data": {
      "text/markdown": [
       "Of the 1,640 cited works whose first citation was in 1980, \n",
       "        88% have died (β = 0.3),\n",
       "        73% have died (β = 0.1),\n",
       "        and 69% have had a total academic death (β = 0). Of the 680 cited authors whose first citation was in 1980, \n",
       "        68% have died (β = 0.3),\n",
       "        50% have died (β = 0.1),\n",
       "        and 47% have had a total academic death (β = 0). Of the 737 citing authors whose first citation was in 1980, \n",
       "        97% have died (β = 0.3),\n",
       "        94% have died (β = 0.1),\n",
       "        and 93% have had a total academic death (β = 0). "
      ],
      "text/plain": [
       "<IPython.core.display.Markdown object>"
      ]
     },
     "metadata": {},
     "output_type": "display_data"
    }
   ],
   "source": [
    "strin = \"\"\n",
    "for typ, name in args:\n",
    "    df = dfs[typ]\n",
    "    df = df[df['first'] == 1980]\n",
    "\n",
    "    n1 = df.shape[0]\n",
    "    n3 = df[df.death3>0].shape[0] / n1\n",
    "    n4 = df[df.death1>0].shape[0] / n1\n",
    "    n5 = df[df.death0>0].shape[0] / n1\n",
    "\n",
    "    strin += \"\"\"Of the {n1:,} {name} whose first citation was in 1980, \n",
    "        {n3:0.0%} have died (β = 0.3),\n",
    "        {n4:0.0%} have died (β = 0.1),\n",
    "        and {n5:0.0%} have had a total academic death (β = 0). \"\"\".format(**locals())\n",
    "    \n",
    "display(Markdown(strin))"
   ]
  },
  {
   "cell_type": "code",
   "execution_count": 20,
   "metadata": {},
   "outputs": [
    {
     "data": {
      "text/html": [
       "<div>\n",
       "<style scoped>\n",
       "    .dataframe tbody tr th:only-of-type {\n",
       "        vertical-align: middle;\n",
       "    }\n",
       "\n",
       "    .dataframe tbody tr th {\n",
       "        vertical-align: top;\n",
       "    }\n",
       "\n",
       "    .dataframe thead th {\n",
       "        text-align: right;\n",
       "    }\n",
       "</style>\n",
       "<table border=\"1\" class=\"dataframe\">\n",
       "  <thead>\n",
       "    <tr style=\"text-align: right;\">\n",
       "      <th></th>\n",
       "      <th>first</th>\n",
       "      <th>total</th>\n",
       "      <th>maxcount</th>\n",
       "      <th>maxcounty</th>\n",
       "      <th>name</th>\n",
       "      <th>isTop</th>\n",
       "      <th>death0</th>\n",
       "      <th>life1_avg0</th>\n",
       "      <th>rebirth1_5</th>\n",
       "      <th>death1</th>\n",
       "      <th>rebirth1_10</th>\n",
       "      <th>life1_avg1</th>\n",
       "      <th>rebirth3_10</th>\n",
       "      <th>death3</th>\n",
       "      <th>life1_avg3</th>\n",
       "    </tr>\n",
       "  </thead>\n",
       "  <tbody>\n",
       "    <tr>\n",
       "      <th>19</th>\n",
       "      <td>1980</td>\n",
       "      <td>37</td>\n",
       "      <td>17</td>\n",
       "      <td>1980</td>\n",
       "      <td>abel, r</td>\n",
       "      <td>False</td>\n",
       "      <td>1996</td>\n",
       "      <td>2.312500</td>\n",
       "      <td>-1</td>\n",
       "      <td>1996</td>\n",
       "      <td>-1</td>\n",
       "      <td>2.312500</td>\n",
       "      <td>-1</td>\n",
       "      <td>1985</td>\n",
       "      <td>3.400000</td>\n",
       "    </tr>\n",
       "    <tr>\n",
       "      <th>25</th>\n",
       "      <td>1980</td>\n",
       "      <td>41</td>\n",
       "      <td>30</td>\n",
       "      <td>1982</td>\n",
       "      <td>abell, t</td>\n",
       "      <td>False</td>\n",
       "      <td>1985</td>\n",
       "      <td>8.200000</td>\n",
       "      <td>-1</td>\n",
       "      <td>1985</td>\n",
       "      <td>-1</td>\n",
       "      <td>8.200000</td>\n",
       "      <td>-1</td>\n",
       "      <td>1985</td>\n",
       "      <td>8.200000</td>\n",
       "    </tr>\n",
       "    <tr>\n",
       "      <th>67</th>\n",
       "      <td>1980</td>\n",
       "      <td>152</td>\n",
       "      <td>42</td>\n",
       "      <td>1981</td>\n",
       "      <td>acker, s</td>\n",
       "      <td>True</td>\n",
       "      <td>1996</td>\n",
       "      <td>9.000000</td>\n",
       "      <td>-1</td>\n",
       "      <td>1996</td>\n",
       "      <td>-1</td>\n",
       "      <td>9.000000</td>\n",
       "      <td>-1</td>\n",
       "      <td>1985</td>\n",
       "      <td>15.800000</td>\n",
       "    </tr>\n",
       "    <tr>\n",
       "      <th>71</th>\n",
       "      <td>1980</td>\n",
       "      <td>27</td>\n",
       "      <td>16</td>\n",
       "      <td>2014</td>\n",
       "      <td>ackerman, s</td>\n",
       "      <td>False</td>\n",
       "      <td>1985</td>\n",
       "      <td>1.600000</td>\n",
       "      <td>2005</td>\n",
       "      <td>1985</td>\n",
       "      <td>2005</td>\n",
       "      <td>1.600000</td>\n",
       "      <td>2005</td>\n",
       "      <td>1985</td>\n",
       "      <td>1.600000</td>\n",
       "    </tr>\n",
       "    <tr>\n",
       "      <th>92</th>\n",
       "      <td>1980</td>\n",
       "      <td>12</td>\n",
       "      <td>8</td>\n",
       "      <td>2001</td>\n",
       "      <td>adams, d</td>\n",
       "      <td>False</td>\n",
       "      <td>1987</td>\n",
       "      <td>0.428571</td>\n",
       "      <td>1997</td>\n",
       "      <td>1987</td>\n",
       "      <td>1997</td>\n",
       "      <td>0.428571</td>\n",
       "      <td>1997</td>\n",
       "      <td>1987</td>\n",
       "      <td>0.428571</td>\n",
       "    </tr>\n",
       "    <tr>\n",
       "      <th>...</th>\n",
       "      <td>...</td>\n",
       "      <td>...</td>\n",
       "      <td>...</td>\n",
       "      <td>...</td>\n",
       "      <td>...</td>\n",
       "      <td>...</td>\n",
       "      <td>...</td>\n",
       "      <td>...</td>\n",
       "      <td>...</td>\n",
       "      <td>...</td>\n",
       "      <td>...</td>\n",
       "      <td>...</td>\n",
       "      <td>...</td>\n",
       "      <td>...</td>\n",
       "      <td>...</td>\n",
       "    </tr>\n",
       "    <tr>\n",
       "      <th>21145</th>\n",
       "      <td>1980</td>\n",
       "      <td>13</td>\n",
       "      <td>13</td>\n",
       "      <td>1980</td>\n",
       "      <td>zamami, m</td>\n",
       "      <td>False</td>\n",
       "      <td>1985</td>\n",
       "      <td>2.600000</td>\n",
       "      <td>-1</td>\n",
       "      <td>1985</td>\n",
       "      <td>-1</td>\n",
       "      <td>2.600000</td>\n",
       "      <td>-1</td>\n",
       "      <td>1985</td>\n",
       "      <td>2.600000</td>\n",
       "    </tr>\n",
       "    <tr>\n",
       "      <th>21150</th>\n",
       "      <td>1980</td>\n",
       "      <td>142</td>\n",
       "      <td>49</td>\n",
       "      <td>1983</td>\n",
       "      <td>zaret, d</td>\n",
       "      <td>True</td>\n",
       "      <td>1993</td>\n",
       "      <td>10.923077</td>\n",
       "      <td>-1</td>\n",
       "      <td>1990</td>\n",
       "      <td>-1</td>\n",
       "      <td>13.800000</td>\n",
       "      <td>-1</td>\n",
       "      <td>1985</td>\n",
       "      <td>18.800000</td>\n",
       "    </tr>\n",
       "    <tr>\n",
       "      <th>21152</th>\n",
       "      <td>1980</td>\n",
       "      <td>17</td>\n",
       "      <td>12</td>\n",
       "      <td>1980</td>\n",
       "      <td>zaslavsky, v</td>\n",
       "      <td>False</td>\n",
       "      <td>1985</td>\n",
       "      <td>3.400000</td>\n",
       "      <td>-1</td>\n",
       "      <td>1985</td>\n",
       "      <td>-1</td>\n",
       "      <td>3.400000</td>\n",
       "      <td>-1</td>\n",
       "      <td>1985</td>\n",
       "      <td>3.400000</td>\n",
       "    </tr>\n",
       "    <tr>\n",
       "      <th>21262</th>\n",
       "      <td>1980</td>\n",
       "      <td>23</td>\n",
       "      <td>12</td>\n",
       "      <td>1980</td>\n",
       "      <td>zito, g</td>\n",
       "      <td>False</td>\n",
       "      <td>1985</td>\n",
       "      <td>4.600000</td>\n",
       "      <td>-1</td>\n",
       "      <td>1985</td>\n",
       "      <td>-1</td>\n",
       "      <td>4.600000</td>\n",
       "      <td>-1</td>\n",
       "      <td>1985</td>\n",
       "      <td>4.600000</td>\n",
       "    </tr>\n",
       "    <tr>\n",
       "      <th>21268</th>\n",
       "      <td>1980</td>\n",
       "      <td>97</td>\n",
       "      <td>32</td>\n",
       "      <td>2000</td>\n",
       "      <td>zolberg, v</td>\n",
       "      <td>False</td>\n",
       "      <td>1985</td>\n",
       "      <td>9.800000</td>\n",
       "      <td>-1</td>\n",
       "      <td>1985</td>\n",
       "      <td>-1</td>\n",
       "      <td>9.800000</td>\n",
       "      <td>-1</td>\n",
       "      <td>1985</td>\n",
       "      <td>9.800000</td>\n",
       "    </tr>\n",
       "  </tbody>\n",
       "</table>\n",
       "<p>737 rows × 15 columns</p>\n",
       "</div>"
      ],
      "text/plain": [
       "       first  total  maxcount  maxcounty          name  isTop  death0  \\\n",
       "19      1980     37        17       1980       abel, r  False    1996   \n",
       "25      1980     41        30       1982      abell, t  False    1985   \n",
       "67      1980    152        42       1981      acker, s   True    1996   \n",
       "71      1980     27        16       2014   ackerman, s  False    1985   \n",
       "92      1980     12         8       2001      adams, d  False    1987   \n",
       "...      ...    ...       ...        ...           ...    ...     ...   \n",
       "21145   1980     13        13       1980     zamami, m  False    1985   \n",
       "21150   1980    142        49       1983      zaret, d   True    1993   \n",
       "21152   1980     17        12       1980  zaslavsky, v  False    1985   \n",
       "21262   1980     23        12       1980       zito, g  False    1985   \n",
       "21268   1980     97        32       2000    zolberg, v  False    1985   \n",
       "\n",
       "       life1_avg0  rebirth1_5  death1  rebirth1_10  life1_avg1  rebirth3_10  \\\n",
       "19       2.312500          -1    1996           -1    2.312500           -1   \n",
       "25       8.200000          -1    1985           -1    8.200000           -1   \n",
       "67       9.000000          -1    1996           -1    9.000000           -1   \n",
       "71       1.600000        2005    1985         2005    1.600000         2005   \n",
       "92       0.428571        1997    1987         1997    0.428571         1997   \n",
       "...           ...         ...     ...          ...         ...          ...   \n",
       "21145    2.600000          -1    1985           -1    2.600000           -1   \n",
       "21150   10.923077          -1    1990           -1   13.800000           -1   \n",
       "21152    3.400000          -1    1985           -1    3.400000           -1   \n",
       "21262    4.600000          -1    1985           -1    4.600000           -1   \n",
       "21268    9.800000          -1    1985           -1    9.800000           -1   \n",
       "\n",
       "       death3  life1_avg3  \n",
       "19       1985    3.400000  \n",
       "25       1985    8.200000  \n",
       "67       1985   15.800000  \n",
       "71       1985    1.600000  \n",
       "92       1987    0.428571  \n",
       "...       ...         ...  \n",
       "21145    1985    2.600000  \n",
       "21150    1985   18.800000  \n",
       "21152    1985    3.400000  \n",
       "21262    1985    4.600000  \n",
       "21268    1985    9.800000  \n",
       "\n",
       "[737 rows x 15 columns]"
      ]
     },
     "execution_count": 20,
     "metadata": {},
     "output_type": "execute_result"
    }
   ],
   "source": [
    "df"
   ]
  },
  {
   "cell_type": "markdown",
   "metadata": {},
   "source": [
    "# proportional"
   ]
  },
  {
   "cell_type": "markdown",
   "metadata": {},
   "source": [
    "## how likely are works/authors to die?"
   ]
  }
 ],
 "metadata": {
  "kernelspec": {
   "display_name": "Python 3",
   "language": "python",
   "name": "python3"
  },
  "language_info": {
   "codemirror_mode": {
    "name": "ipython",
    "version": 3
   },
   "file_extension": ".py",
   "mimetype": "text/x-python",
   "name": "python",
   "nbconvert_exporter": "python",
   "pygments_lexer": "ipython3",
   "version": "3.7.5"
  }
 },
 "nbformat": 4,
 "nbformat_minor": 4
}
